{
 "cells": [
  {
   "cell_type": "markdown",
   "id": "e8570ef0",
   "metadata": {},
   "source": [
    "# Classification"
   ]
  },
  {
   "cell_type": "markdown",
   "id": "f2161a67-4b40-4a7a-b2e8-e762475480e3",
   "metadata": {},
   "source": [
    "For classification I use three models: logistic regression, a one-layer dense network, and a two-layer dense network. First the high-level features data is split in training, validation, and test data. At the end, I compare performance of the classification models for each model used for feature extraction."
   ]
  },
  {
   "cell_type": "markdown",
   "id": "44036307-3014-4a84-ab31-7be8bafaa3dd",
   "metadata": {},
   "source": [
    "## 1. Import packages, define class names, select model, and load features from file"
   ]
  },
  {
   "cell_type": "code",
   "execution_count": 1,
   "id": "a2a83ec8",
   "metadata": {},
   "outputs": [],
   "source": [
    "import numpy as np\n",
    "import os\n",
    "import pandas as pd\n",
    "import re\n",
    "from sklearn.utils import class_weight "
   ]
  },
  {
   "cell_type": "code",
   "execution_count": 2,
   "id": "4b04d82a",
   "metadata": {},
   "outputs": [],
   "source": [
    "class_names = ['adenosis',\n",
    "            'ductal_carcinoma',\n",
    "            'fibroadenoma',\n",
    "            'lobular_carcinoma',\n",
    "            'mucinous_carcinoma',\n",
    "            'papillary_carcinoma',\n",
    "            'phyllodes_tumor',\n",
    "            'tubular_adenoma']"
   ]
  },
  {
   "cell_type": "markdown",
   "id": "87c8f548-4f83-4dbb-a95c-f9550618e4fd",
   "metadata": {},
   "source": [
    "#### Choose one of the models"
   ]
  },
  {
   "cell_type": "markdown",
   "id": "a8faf522-26fb-40e9-9c71-236d02569384",
   "metadata": {},
   "source": [
    "The user must select one of the models by setting the corresponding variable to `True`"
   ]
  },
  {
   "cell_type": "code",
   "execution_count": 3,
   "id": "a139c987-a04b-4d15-b3f6-511157b25d5e",
   "metadata": {},
   "outputs": [],
   "source": [
    "isVGG16=False\n",
    "isInceptionV3=False\n",
    "isResNet50=False\n",
    "isXception=False\n",
    "isDenseNet121=False\n",
    "isInceptionResNetV2=False\n",
    "isEfficientNet0=True"
   ]
  },
  {
   "cell_type": "markdown",
   "id": "b2604b96-6433-47b0-998b-ac6e0840d95a",
   "metadata": {},
   "source": [
    "#### Set high-level feature file name"
   ]
  },
  {
   "cell_type": "code",
   "execution_count": 4,
   "id": "c63bb727-76a1-4616-96d6-8c4e4f84ba00",
   "metadata": {},
   "outputs": [],
   "source": [
    "if isVGG16==True:             ffilename = 'features_patches_VGG16.npz'\n",
    "if isInceptionV3==True:       ffilename = 'features_patches_InceptionV3.npz'\n",
    "if isResNet50==True:          ffilename = 'features_patches_ResNet50.npz'\n",
    "if isXception==True:          ffilename = 'features_patches_Xception.npz'\n",
    "if isDenseNet121==True:       ffilename = 'features_patches_DenseNet121.npz'\n",
    "if isInceptionResNetV2==True: ffilename = 'features_patches_InceptionResNetV2.npz'\n",
    "if isEfficientNet0==True:     ffilename = 'features_patches_EfficientNetB0.npz'"
   ]
  },
  {
   "cell_type": "markdown",
   "id": "c22e51b3-6948-4acb-af40-2617be4d6c46",
   "metadata": {},
   "source": [
    "#### Get model's name as string"
   ]
  },
  {
   "cell_type": "code",
   "execution_count": 5,
   "id": "e65c62c6-d502-4aab-b441-374909e2135f",
   "metadata": {},
   "outputs": [
    {
     "data": {
      "text/plain": [
       "'EfficientNetB0'"
      ]
     },
     "execution_count": 5,
     "metadata": {},
     "output_type": "execute_result"
    }
   ],
   "source": [
    "model_str = re.sub('.*_(.*)\\.npz', '\\\\1', ffilename)\n",
    "model_str"
   ]
  },
  {
   "cell_type": "markdown",
   "id": "0595756b-e805-48ef-a1d9-f842955f0ebf",
   "metadata": {},
   "source": [
    "#### Load features from file"
   ]
  },
  {
   "cell_type": "code",
   "execution_count": 6,
   "id": "45d7bc04",
   "metadata": {},
   "outputs": [
    {
     "name": "stdout",
     "output_type": "stream",
     "text": [
      "Shape of features: (7980, 1280) \n",
      "Shape of labs: (7980,) \n",
      "Shape of filenames: (7980,)\n"
     ]
    }
   ],
   "source": [
    "with np.load(os.path.join('data', 'HLfeatures', ffilename)) as features_npz:\n",
    "    features_dict = dict(features_npz)\n",
    "\n",
    "nf = features_dict['arr_0'].shape[1] - 2\n",
    "features = features_dict['arr_0'][:,:nf].astype(float)\n",
    "labs = features_dict['arr_0'][:,nf].astype(int)\n",
    "fns = features_dict['arr_0'][:,-1]\n",
    "print('Shape of features:', features.shape, '\\nShape of labs:', labs.shape, '\\nShape of filenames:', fns.shape)"
   ]
  },
  {
   "cell_type": "code",
   "execution_count": 7,
   "id": "8484d8ba",
   "metadata": {},
   "outputs": [
    {
     "name": "stdout",
     "output_type": "stream",
     "text": [
      "dtype of features: float64 \n",
      "dtype of labels:   int64\n"
     ]
    }
   ],
   "source": [
    "print('dtype of features:', features.dtype, '\\ndtype of labels:  ', labs.dtype)"
   ]
  },
  {
   "cell_type": "markdown",
   "id": "c0652828",
   "metadata": {},
   "source": [
    "## 2. Split features in train (80%), validation (10%), and test (10%) data"
   ]
  },
  {
   "cell_type": "markdown",
   "id": "4ff617d4-47f3-4a03-ae17-383be280b990",
   "metadata": {},
   "source": [
    "It is common to split data in 80% for training, 10% for validation, and another 10% for testing. I do this in two steps with `train_test_split()` function from `sklearn.model_selection` modul."
   ]
  },
  {
   "cell_type": "code",
   "execution_count": 8,
   "id": "2f1601f8",
   "metadata": {
    "tags": []
   },
   "outputs": [],
   "source": [
    "from sklearn.model_selection import train_test_split"
   ]
  },
  {
   "cell_type": "code",
   "execution_count": 9,
   "id": "c5925ef2",
   "metadata": {},
   "outputs": [
    {
     "name": "stdout",
     "output_type": "stream",
     "text": [
      "train X: (6384, 1280) \n",
      "      y: (6384,)\n",
      "valid X: (798, 1280) \n",
      "      y: (798,)\n",
      "test  X: (798, 1280) \n",
      "      y: (798,)\n"
     ]
    }
   ],
   "source": [
    "# Split into train/rest sets\n",
    "X_tr, X_, y_tr, y_, fn_tr, fn_ = train_test_split(\n",
    "    features, labs, fns,\n",
    "    test_size=0.2, random_state=0)\n",
    "\n",
    "# Split rest into valid/test sets\n",
    "X_val, X_te, y_val, y_te, fn_val, fn_te = train_test_split(\n",
    "    X_, y_, fn_, \n",
    "    test_size=0.5, random_state=0)\n",
    "\n",
    "print('train X:', X_tr.shape, '\\n      y:', y_tr.shape)\n",
    "print('valid X:', X_val.shape, '\\n      y:', y_val.shape)\n",
    "print('test  X:', X_te.shape, '\\n      y:', y_te.shape)"
   ]
  },
  {
   "cell_type": "markdown",
   "id": "09479dea",
   "metadata": {},
   "source": [
    "#### Proportion of numbers per class"
   ]
  },
  {
   "cell_type": "markdown",
   "id": "f93494b0-7bfb-4ecd-ba63-ff93438e341e",
   "metadata": {},
   "source": [
    "Get counts and proportions for train/valid/test set for each class"
   ]
  },
  {
   "cell_type": "code",
   "execution_count": 10,
   "id": "8624cca3",
   "metadata": {},
   "outputs": [],
   "source": [
    "# define function to get counts and proportion\n",
    "# y: vector of value labels (0..7)\n",
    "def get_counts(y):\n",
    "    labs_num = pd.DataFrame(y)[0]\n",
    "    labs_num_prop = labs_num.value_counts(normalize=True).sort_index()\n",
    "    labs_num_prop = np.round(labs_num_prop*100, 1)\n",
    "    labs_num_count = labs_num.value_counts().sort_index()\n",
    "    return(labs_num_count, labs_num_prop)"
   ]
  },
  {
   "cell_type": "code",
   "execution_count": 11,
   "id": "2455e6ef",
   "metadata": {},
   "outputs": [
    {
     "data": {
      "text/html": [
       "<div>\n",
       "<style scoped>\n",
       "    .dataframe tbody tr th:only-of-type {\n",
       "        vertical-align: middle;\n",
       "    }\n",
       "\n",
       "    .dataframe tbody tr th {\n",
       "        vertical-align: top;\n",
       "    }\n",
       "\n",
       "    .dataframe thead th {\n",
       "        text-align: right;\n",
       "    }\n",
       "</style>\n",
       "<table border=\"1\" class=\"dataframe\">\n",
       "  <thead>\n",
       "    <tr style=\"text-align: right;\">\n",
       "      <th></th>\n",
       "      <th>count train</th>\n",
       "      <th>count validation</th>\n",
       "      <th>count test</th>\n",
       "      <th>proportion train (%)</th>\n",
       "      <th>proportion validation (%)</th>\n",
       "      <th>proportion test (%)</th>\n",
       "      <th>proportion train split (%)</th>\n",
       "      <th>proportion validation split (%)</th>\n",
       "      <th>proportion test split (%)</th>\n",
       "    </tr>\n",
       "  </thead>\n",
       "  <tbody>\n",
       "    <tr>\n",
       "      <th>adenosis</th>\n",
       "      <td>378</td>\n",
       "      <td>35</td>\n",
       "      <td>43</td>\n",
       "      <td>5.9</td>\n",
       "      <td>4.4</td>\n",
       "      <td>5.4</td>\n",
       "      <td>82.9</td>\n",
       "      <td>7.7</td>\n",
       "      <td>9.4</td>\n",
       "    </tr>\n",
       "    <tr>\n",
       "      <th>ductal_carcinoma</th>\n",
       "      <td>2790</td>\n",
       "      <td>334</td>\n",
       "      <td>332</td>\n",
       "      <td>43.7</td>\n",
       "      <td>41.9</td>\n",
       "      <td>41.6</td>\n",
       "      <td>80.7</td>\n",
       "      <td>9.7</td>\n",
       "      <td>9.6</td>\n",
       "    </tr>\n",
       "    <tr>\n",
       "      <th>fibroadenoma</th>\n",
       "      <td>808</td>\n",
       "      <td>105</td>\n",
       "      <td>99</td>\n",
       "      <td>12.7</td>\n",
       "      <td>13.2</td>\n",
       "      <td>12.4</td>\n",
       "      <td>79.8</td>\n",
       "      <td>10.4</td>\n",
       "      <td>9.8</td>\n",
       "    </tr>\n",
       "    <tr>\n",
       "      <th>lobular_carcinoma</th>\n",
       "      <td>505</td>\n",
       "      <td>62</td>\n",
       "      <td>57</td>\n",
       "      <td>7.9</td>\n",
       "      <td>7.8</td>\n",
       "      <td>7.1</td>\n",
       "      <td>80.9</td>\n",
       "      <td>9.9</td>\n",
       "      <td>9.1</td>\n",
       "    </tr>\n",
       "    <tr>\n",
       "      <th>mucinous_carcinoma</th>\n",
       "      <td>635</td>\n",
       "      <td>84</td>\n",
       "      <td>101</td>\n",
       "      <td>9.9</td>\n",
       "      <td>10.5</td>\n",
       "      <td>12.7</td>\n",
       "      <td>77.4</td>\n",
       "      <td>10.2</td>\n",
       "      <td>12.3</td>\n",
       "    </tr>\n",
       "    <tr>\n",
       "      <th>papillary_carcinoma</th>\n",
       "      <td>451</td>\n",
       "      <td>75</td>\n",
       "      <td>54</td>\n",
       "      <td>7.1</td>\n",
       "      <td>9.4</td>\n",
       "      <td>6.8</td>\n",
       "      <td>77.8</td>\n",
       "      <td>12.9</td>\n",
       "      <td>9.3</td>\n",
       "    </tr>\n",
       "    <tr>\n",
       "      <th>phyllodes_tumor</th>\n",
       "      <td>354</td>\n",
       "      <td>42</td>\n",
       "      <td>40</td>\n",
       "      <td>5.5</td>\n",
       "      <td>5.3</td>\n",
       "      <td>5.0</td>\n",
       "      <td>81.2</td>\n",
       "      <td>9.6</td>\n",
       "      <td>9.2</td>\n",
       "    </tr>\n",
       "    <tr>\n",
       "      <th>tubular_adenoma</th>\n",
       "      <td>463</td>\n",
       "      <td>61</td>\n",
       "      <td>72</td>\n",
       "      <td>7.3</td>\n",
       "      <td>7.6</td>\n",
       "      <td>9.0</td>\n",
       "      <td>77.7</td>\n",
       "      <td>10.2</td>\n",
       "      <td>12.1</td>\n",
       "    </tr>\n",
       "  </tbody>\n",
       "</table>\n",
       "</div>"
      ],
      "text/plain": [
       "                     count train  count validation  count test  \\\n",
       "adenosis                     378                35          43   \n",
       "ductal_carcinoma            2790               334         332   \n",
       "fibroadenoma                 808               105          99   \n",
       "lobular_carcinoma            505                62          57   \n",
       "mucinous_carcinoma           635                84         101   \n",
       "papillary_carcinoma          451                75          54   \n",
       "phyllodes_tumor              354                42          40   \n",
       "tubular_adenoma              463                61          72   \n",
       "\n",
       "                     proportion train (%)  proportion validation (%)  \\\n",
       "adenosis                              5.9                        4.4   \n",
       "ductal_carcinoma                     43.7                       41.9   \n",
       "fibroadenoma                         12.7                       13.2   \n",
       "lobular_carcinoma                     7.9                        7.8   \n",
       "mucinous_carcinoma                    9.9                       10.5   \n",
       "papillary_carcinoma                   7.1                        9.4   \n",
       "phyllodes_tumor                       5.5                        5.3   \n",
       "tubular_adenoma                       7.3                        7.6   \n",
       "\n",
       "                     proportion test (%)  proportion train split (%)  \\\n",
       "adenosis                             5.4                        82.9   \n",
       "ductal_carcinoma                    41.6                        80.7   \n",
       "fibroadenoma                        12.4                        79.8   \n",
       "lobular_carcinoma                    7.1                        80.9   \n",
       "mucinous_carcinoma                  12.7                        77.4   \n",
       "papillary_carcinoma                  6.8                        77.8   \n",
       "phyllodes_tumor                      5.0                        81.2   \n",
       "tubular_adenoma                      9.0                        77.7   \n",
       "\n",
       "                     proportion validation split (%)  \\\n",
       "adenosis                                         7.7   \n",
       "ductal_carcinoma                                 9.7   \n",
       "fibroadenoma                                    10.4   \n",
       "lobular_carcinoma                                9.9   \n",
       "mucinous_carcinoma                              10.2   \n",
       "papillary_carcinoma                             12.9   \n",
       "phyllodes_tumor                                  9.6   \n",
       "tubular_adenoma                                 10.2   \n",
       "\n",
       "                     proportion test split (%)  \n",
       "adenosis                                   9.4  \n",
       "ductal_carcinoma                           9.6  \n",
       "fibroadenoma                               9.8  \n",
       "lobular_carcinoma                          9.1  \n",
       "mucinous_carcinoma                        12.3  \n",
       "papillary_carcinoma                        9.3  \n",
       "phyllodes_tumor                            9.2  \n",
       "tubular_adenoma                           12.1  "
      ]
     },
     "execution_count": 11,
     "metadata": {},
     "output_type": "execute_result"
    }
   ],
   "source": [
    "# compose table with counts and proportions\n",
    "count_tr, prop_tr   = get_counts(y_tr)\n",
    "count_val, prop_val = get_counts(y_val)\n",
    "count_te, prop_te   = get_counts(y_te)\n",
    "\n",
    "class_df = pd.DataFrame({'count train': count_tr, 'count validation': count_val, 'count test': count_te,\n",
    "                         'proportion train (%)': prop_tr, 'proportion validation (%)': prop_val,'proportion test (%)': prop_te,})\n",
    "class_df.index = class_names\n",
    "count_total = class_df.iloc[:,0] + class_df.iloc[:,1] + class_df.iloc[:,2]\n",
    "class_df['proportion train split (%)'] = np.round(class_df.iloc[:,0] / count_total * 100, 1)\n",
    "class_df['proportion validation split (%)'] = np.round(class_df.iloc[:,1] / count_total * 100, 1)\n",
    "class_df['proportion test split (%)'] = np.round(class_df.iloc[:,2] / count_total * 100, 1)\n",
    "class_df"
   ]
  },
  {
   "cell_type": "markdown",
   "id": "6aa7956b-a24e-4dbc-b0d4-171a840c4e6e",
   "metadata": {},
   "source": [
    "One can see, that for each data set, i.e., for train, validation, and test set, each class has nearly the same proportion of features therein. One can also see, that split proportions (80% train, 10% validation, and 10% test) are preserved within classes."
   ]
  },
  {
   "cell_type": "markdown",
   "id": "c94e1abe-2e10-4cff-843d-74876cc9d620",
   "metadata": {},
   "source": [
    "#### Compute class weights"
   ]
  },
  {
   "cell_type": "markdown",
   "id": "92fdf395-916b-404e-93ba-b992c9441803",
   "metadata": {},
   "source": [
    "I will use class weights (inverse proportional to class counts) for classification, as classes are unbalanced."
   ]
  },
  {
   "cell_type": "code",
   "execution_count": 12,
   "id": "ec88a977",
   "metadata": {},
   "outputs": [
    {
     "data": {
      "text/plain": [
       "{0: 2.111111111111111,\n",
       " 1: 0.2860215053763441,\n",
       " 2: 0.9876237623762376,\n",
       " 3: 1.5801980198019803,\n",
       " 4: 1.2566929133858267,\n",
       " 5: 1.76940133037694,\n",
       " 6: 2.2542372881355934,\n",
       " 7: 1.7235421166306695}"
      ]
     },
     "execution_count": 12,
     "metadata": {},
     "output_type": "execute_result"
    }
   ],
   "source": [
    "# https://stackoverflow.com/a/67678520\n",
    "class_weights = class_weight.compute_class_weight(\n",
    "    class_weight='balanced',\n",
    "    classes=np.unique(y_tr), \n",
    "    y=y_tr)\n",
    "\n",
    "train_class_weights = dict(enumerate(class_weights))\n",
    "train_class_weights"
   ]
  },
  {
   "cell_type": "markdown",
   "id": "85293bd9",
   "metadata": {},
   "source": [
    "## 3. Logistic regression"
   ]
  },
  {
   "cell_type": "markdown",
   "id": "463e0fad-ae5b-4ff3-bdc2-dff1cfe2a67f",
   "metadata": {},
   "source": [
    "Logistic regression serves as a kind of baseline model, as it is very fast and works out-of-the-box."
   ]
  },
  {
   "cell_type": "markdown",
   "id": "39b13407-840d-4370-bb5c-fad70fb8d4dd",
   "metadata": {},
   "source": [
    "#### Import packages"
   ]
  },
  {
   "cell_type": "code",
   "execution_count": 13,
   "id": "62fbe8e3-6de8-4a0b-973b-1c1211b25463",
   "metadata": {},
   "outputs": [],
   "source": [
    "from sklearn.linear_model import LogisticRegression\n",
    "from sklearn.preprocessing import StandardScaler\n",
    "from sklearn.pipeline import make_pipeline"
   ]
  },
  {
   "cell_type": "markdown",
   "id": "23f30f77-d375-468f-9952-1f89f0410f26",
   "metadata": {},
   "source": [
    "#### Create the estimator"
   ]
  },
  {
   "cell_type": "markdown",
   "id": "43ebdd33-d508-4eb3-bfee-6a6b2a0e39c3",
   "metadata": {},
   "source": [
    "I use here a pipeline to make sure, that data is standardaize before computing logistic regression."
   ]
  },
  {
   "cell_type": "code",
   "execution_count": 14,
   "id": "ba6a452c",
   "metadata": {
    "tags": []
   },
   "outputs": [],
   "source": [
    "logreg = make_pipeline(\n",
    "    StandardScaler(), \n",
    "    LogisticRegression(solver='liblinear',  multi_class='auto', class_weight=train_class_weights)\n",
    ")"
   ]
  },
  {
   "cell_type": "markdown",
   "id": "47697292-3229-4b8a-ab6b-900f429022fa",
   "metadata": {},
   "source": [
    "#### Fit it to train data"
   ]
  },
  {
   "cell_type": "code",
   "execution_count": 15,
   "id": "1891eb95-ace8-4b58-aa55-a130b4da6603",
   "metadata": {},
   "outputs": [
    {
     "data": {
      "text/plain": [
       "Pipeline(steps=[('standardscaler', StandardScaler()),\n",
       "                ('logisticregression',\n",
       "                 LogisticRegression(class_weight={0: 2.111111111111111,\n",
       "                                                  1: 0.2860215053763441,\n",
       "                                                  2: 0.9876237623762376,\n",
       "                                                  3: 1.5801980198019803,\n",
       "                                                  4: 1.2566929133858267,\n",
       "                                                  5: 1.76940133037694,\n",
       "                                                  6: 2.2542372881355934,\n",
       "                                                  7: 1.7235421166306695},\n",
       "                                    solver='liblinear'))])"
      ]
     },
     "execution_count": 15,
     "metadata": {},
     "output_type": "execute_result"
    }
   ],
   "source": [
    "logreg.fit(X_tr, y_tr)"
   ]
  },
  {
   "cell_type": "markdown",
   "id": "9dfe0417-97a0-41ce-80cb-0f551f7d6a38",
   "metadata": {},
   "source": [
    "#### Accuracy on test set"
   ]
  },
  {
   "cell_type": "code",
   "execution_count": 16,
   "id": "d1c0c85f-ce32-4b30-be04-8e0e17337902",
   "metadata": {},
   "outputs": [
    {
     "name": "stdout",
     "output_type": "stream",
     "text": [
      "Accuracy: 0.788\n"
     ]
    }
   ],
   "source": [
    "accuracy = logreg.score(X_te, y_te)\n",
    "print('Accuracy: {:.3f}'.format(accuracy))"
   ]
  },
  {
   "cell_type": "markdown",
   "id": "349589c8-a955-43e4-a347-df33ef2346d0",
   "metadata": {},
   "source": [
    "#### Save result to file"
   ]
  },
  {
   "cell_type": "code",
   "execution_count": 33,
   "id": "736baf5e-7dfd-4dc7-bf49-49e09178f346",
   "metadata": {
    "tags": []
   },
   "outputs": [],
   "source": [
    "df = pd.DataFrame({\n",
    "    'HLfeatures model': model_str,\n",
    "    'model': 'logistic regression', \n",
    "    'test_accuracy': np.round(accuracy, 3)}, index=[0])\n",
    "#df.to_csv('testacc.txt', mode='a', header=False)"
   ]
  },
  {
   "cell_type": "markdown",
   "id": "f8c7f67f",
   "metadata": {},
   "source": [
    "## 4. One-layer dense network"
   ]
  },
  {
   "cell_type": "markdown",
   "id": "f7bebfc1-a974-47d6-b4e3-16e5ecdf7d9a",
   "metadata": {},
   "source": [
    "# TODO see https://learn.extensionschool.ch/learn/programs/applied-data-science-machine-learning-v2/subjects/tensorflow-ecosystem-v1/units/the-keras-api-v1"
   ]
  },
  {
   "cell_type": "markdown",
   "id": "a09eb777-c487-4ef3-9a47-45c3a2ea7fcd",
   "metadata": {},
   "source": [
    "#### Import functions from modul `keras`"
   ]
  },
  {
   "cell_type": "code",
   "execution_count": 3,
   "id": "a5330304",
   "metadata": {},
   "outputs": [],
   "source": [
    "from tensorflow.keras import Sequential\n",
    "from tensorflow.keras.layers import Dense\n",
    "from tensorflow.keras.layers import InputLayer\n",
    "from tensorflow.keras.callbacks import EarlyStopping"
   ]
  },
  {
   "cell_type": "markdown",
   "id": "de289112",
   "metadata": {
    "tags": []
   },
   "source": [
    "#### Define sequential model"
   ]
  },
  {
   "cell_type": "markdown",
   "id": "a418385e-1805-4379-882b-d2d1c60353d7",
   "metadata": {},
   "source": [
    "Here a basic sequential model is created with one dense layer (8 output neurons, and softmax activation). Number of parameters is $n_{features}\\cdot 8+8$"
   ]
  },
  {
   "cell_type": "code",
   "execution_count": 19,
   "id": "a1bf0a2b",
   "metadata": {},
   "outputs": [
    {
     "name": "stdout",
     "output_type": "stream",
     "text": [
      "Model: \"sequential\"\n",
      "_________________________________________________________________\n",
      "Layer (type)                 Output Shape              Param #   \n",
      "=================================================================\n",
      "dense (Dense)                (None, 8)                 10248     \n",
      "=================================================================\n",
      "Total params: 10,248\n",
      "Trainable params: 10,248\n",
      "Non-trainable params: 0\n",
      "_________________________________________________________________\n"
     ]
    },
    {
     "name": "stderr",
     "output_type": "stream",
     "text": [
      "2022-03-04 13:47:23.566957: I tensorflow/core/platform/cpu_feature_guard.cc:142] This TensorFlow binary is optimized with oneAPI Deep Neural Network Library (oneDNN) to use the following CPU instructions in performance-critical operations:  SSE4.1 SSE4.2 AVX\n",
      "To enable them in other operations, rebuild TensorFlow with the appropriate compiler flags.\n"
     ]
    }
   ],
   "source": [
    "model = Sequential()\n",
    "model.add(InputLayer(input_shape=(nf,)))\n",
    "model.add(Dense(8, activation='softmax'))\n",
    "model.summary()"
   ]
  },
  {
   "cell_type": "markdown",
   "id": "9e93b20d",
   "metadata": {},
   "source": [
    "#### Define loss function, optimizer, and metrics to track during training"
   ]
  },
  {
   "cell_type": "code",
   "execution_count": 4,
   "id": "617ee8dc",
   "metadata": {},
   "outputs": [
    {
     "ename": "NameError",
     "evalue": "name 'model' is not defined",
     "output_type": "error",
     "traceback": [
      "\u001b[0;31m---------------------------------------------------------------------------\u001b[0m",
      "\u001b[0;31mNameError\u001b[0m                                 Traceback (most recent call last)",
      "Input \u001b[0;32mIn [4]\u001b[0m, in \u001b[0;36m<module>\u001b[0;34m\u001b[0m\n\u001b[0;32m----> 1\u001b[0m \u001b[43mmodel\u001b[49m\u001b[38;5;241m.\u001b[39mcompile(\n\u001b[1;32m      2\u001b[0m     optimizer\u001b[38;5;241m=\u001b[39m\u001b[38;5;124m'\u001b[39m\u001b[38;5;124msgd\u001b[39m\u001b[38;5;124m'\u001b[39m,  \u001b[38;5;66;03m# Gradient descent (with momentum) optimizer\u001b[39;00m\n\u001b[1;32m      3\u001b[0m     loss\u001b[38;5;241m=\u001b[39m\u001b[38;5;124m'\u001b[39m\u001b[38;5;124msparse_categorical_crossentropy\u001b[39m\u001b[38;5;124m'\u001b[39m,  \u001b[38;5;66;03m# labels are encoded as 0,1,2,... \u001b[39;00m\n\u001b[1;32m      4\u001b[0m     metrics\u001b[38;5;241m=\u001b[39m[\u001b[38;5;124m'\u001b[39m\u001b[38;5;124macc\u001b[39m\u001b[38;5;124m'\u001b[39m]  \u001b[38;5;66;03m# track accuracy during training\u001b[39;00m\n\u001b[1;32m      5\u001b[0m )\n",
      "\u001b[0;31mNameError\u001b[0m: name 'model' is not defined"
     ]
    }
   ],
   "source": [
    "model.compile(\n",
    "    optimizer='sgd',  # Gradient descent (with momentum) optimizer\n",
    "    loss='sparse_categorical_crossentropy',  # labels are encoded as 0,1,2,... \n",
    "    metrics=['acc']  # track accuracy during training\n",
    ")"
   ]
  },
  {
   "cell_type": "markdown",
   "id": "433908d6",
   "metadata": {},
   "source": [
    "#### End training when accuracy stops improving (optional)"
   ]
  },
  {
   "cell_type": "code",
   "execution_count": 21,
   "id": "11502d72",
   "metadata": {},
   "outputs": [],
   "source": [
    "early_stopping = EarlyStopping(monitor='val_loss', patience=10)"
   ]
  },
  {
   "cell_type": "markdown",
   "id": "100632e4",
   "metadata": {},
   "source": [
    "#### Fit model"
   ]
  },
  {
   "cell_type": "code",
   "execution_count": 22,
   "id": "6c0c4cdb",
   "metadata": {},
   "outputs": [],
   "source": [
    "#train_class_weights = {str(k):v for k,v in train_class_weights.items()}\n",
    "#train_class_weights"
   ]
  },
  {
   "cell_type": "code",
   "execution_count": 23,
   "id": "13b2b0f4",
   "metadata": {
    "collapsed": true,
    "jupyter": {
     "outputs_hidden": true
    },
    "tags": []
   },
   "outputs": [
    {
     "name": "stderr",
     "output_type": "stream",
     "text": [
      "2022-03-04 13:47:23.730232: I tensorflow/compiler/mlir/mlir_graph_optimization_pass.cc:185] None of the MLIR Optimization Passes are enabled (registered 2)\n"
     ]
    },
    {
     "name": "stdout",
     "output_type": "stream",
     "text": [
      "Epoch 1/200\n",
      "200/200 [==============================] - 1s 3ms/step - loss: 1.8090 - acc: 0.3070 - val_loss: 1.6345 - val_acc: 0.4286\n",
      "Epoch 2/200\n",
      "200/200 [==============================] - 0s 2ms/step - loss: 1.4875 - acc: 0.4510 - val_loss: 1.5038 - val_acc: 0.4574\n",
      "Epoch 3/200\n",
      "200/200 [==============================] - 0s 2ms/step - loss: 1.3423 - acc: 0.4934 - val_loss: 1.3602 - val_acc: 0.5301\n",
      "Epoch 4/200\n",
      "200/200 [==============================] - 0s 2ms/step - loss: 1.2543 - acc: 0.5244 - val_loss: 1.2857 - val_acc: 0.5589\n",
      "Epoch 5/200\n",
      "200/200 [==============================] - 0s 2ms/step - loss: 1.1876 - acc: 0.5365 - val_loss: 1.2266 - val_acc: 0.5764\n",
      "Epoch 6/200\n",
      "200/200 [==============================] - 0s 1ms/step - loss: 1.1373 - acc: 0.5591 - val_loss: 1.2482 - val_acc: 0.5539\n",
      "Epoch 7/200\n",
      "200/200 [==============================] - 0s 2ms/step - loss: 1.0957 - acc: 0.5678 - val_loss: 1.1670 - val_acc: 0.5902\n",
      "Epoch 8/200\n",
      "200/200 [==============================] - 0s 2ms/step - loss: 1.0610 - acc: 0.5836 - val_loss: 1.1240 - val_acc: 0.6140\n",
      "Epoch 9/200\n",
      "200/200 [==============================] - 0s 2ms/step - loss: 1.0309 - acc: 0.5943 - val_loss: 1.1182 - val_acc: 0.6053\n",
      "Epoch 10/200\n",
      "200/200 [==============================] - 0s 2ms/step - loss: 1.0040 - acc: 0.6035 - val_loss: 1.1181 - val_acc: 0.5940\n",
      "Epoch 11/200\n",
      "200/200 [==============================] - 0s 2ms/step - loss: 0.9794 - acc: 0.6139 - val_loss: 1.1165 - val_acc: 0.5927\n",
      "Epoch 12/200\n",
      "200/200 [==============================] - 0s 2ms/step - loss: 0.9589 - acc: 0.6192 - val_loss: 1.0783 - val_acc: 0.6115\n",
      "Epoch 13/200\n",
      "200/200 [==============================] - 0s 2ms/step - loss: 0.9392 - acc: 0.6264 - val_loss: 1.0441 - val_acc: 0.6266\n",
      "Epoch 14/200\n",
      "200/200 [==============================] - 0s 2ms/step - loss: 0.9215 - acc: 0.6302 - val_loss: 1.0355 - val_acc: 0.6316\n",
      "Epoch 15/200\n",
      "200/200 [==============================] - 0s 2ms/step - loss: 0.9048 - acc: 0.6361 - val_loss: 1.0204 - val_acc: 0.6404\n",
      "Epoch 16/200\n",
      "200/200 [==============================] - 0s 2ms/step - loss: 0.8889 - acc: 0.6451 - val_loss: 1.0352 - val_acc: 0.6178\n",
      "Epoch 17/200\n",
      "200/200 [==============================] - 0s 2ms/step - loss: 0.8765 - acc: 0.6487 - val_loss: 1.0013 - val_acc: 0.6429\n",
      "Epoch 18/200\n",
      "200/200 [==============================] - 0s 2ms/step - loss: 0.8626 - acc: 0.6518 - val_loss: 0.9979 - val_acc: 0.6353\n",
      "Epoch 19/200\n",
      "200/200 [==============================] - 0s 1ms/step - loss: 0.8508 - acc: 0.6602 - val_loss: 0.9952 - val_acc: 0.6341\n",
      "Epoch 20/200\n",
      "200/200 [==============================] - 0s 2ms/step - loss: 0.8392 - acc: 0.6601 - val_loss: 0.9937 - val_acc: 0.6353\n",
      "Epoch 21/200\n",
      "200/200 [==============================] - 0s 1ms/step - loss: 0.8276 - acc: 0.6696 - val_loss: 0.9684 - val_acc: 0.6429\n",
      "Epoch 22/200\n",
      "200/200 [==============================] - 0s 1ms/step - loss: 0.8175 - acc: 0.6665 - val_loss: 0.9709 - val_acc: 0.6328\n",
      "Epoch 23/200\n",
      "200/200 [==============================] - 0s 2ms/step - loss: 0.8084 - acc: 0.6678 - val_loss: 0.9085 - val_acc: 0.6754\n",
      "Epoch 24/200\n",
      "200/200 [==============================] - 0s 1ms/step - loss: 0.7984 - acc: 0.6778 - val_loss: 0.9309 - val_acc: 0.6591\n",
      "Epoch 25/200\n",
      "200/200 [==============================] - 0s 1ms/step - loss: 0.7893 - acc: 0.6779 - val_loss: 0.9258 - val_acc: 0.6591\n",
      "Epoch 26/200\n",
      "200/200 [==============================] - 0s 1ms/step - loss: 0.7808 - acc: 0.6787 - val_loss: 0.9355 - val_acc: 0.6516\n",
      "Epoch 27/200\n",
      "200/200 [==============================] - 0s 1ms/step - loss: 0.7722 - acc: 0.6842 - val_loss: 0.9366 - val_acc: 0.6504\n",
      "Epoch 28/200\n",
      "200/200 [==============================] - 0s 2ms/step - loss: 0.7652 - acc: 0.6825 - val_loss: 0.8953 - val_acc: 0.6729\n",
      "Epoch 29/200\n",
      "200/200 [==============================] - 0s 1ms/step - loss: 0.7581 - acc: 0.6906 - val_loss: 0.8865 - val_acc: 0.6742\n",
      "Epoch 30/200\n",
      "200/200 [==============================] - 0s 2ms/step - loss: 0.7505 - acc: 0.6906 - val_loss: 0.9267 - val_acc: 0.6566\n",
      "Epoch 31/200\n",
      "200/200 [==============================] - 0s 1ms/step - loss: 0.7426 - acc: 0.6952 - val_loss: 0.9092 - val_acc: 0.6617\n",
      "Epoch 32/200\n",
      "200/200 [==============================] - 0s 1ms/step - loss: 0.7371 - acc: 0.6961 - val_loss: 0.9060 - val_acc: 0.6654\n",
      "Epoch 33/200\n",
      "200/200 [==============================] - 0s 1ms/step - loss: 0.7304 - acc: 0.6966 - val_loss: 0.8941 - val_acc: 0.6654\n",
      "Epoch 34/200\n",
      "200/200 [==============================] - 0s 1ms/step - loss: 0.7246 - acc: 0.7008 - val_loss: 0.9064 - val_acc: 0.6629\n",
      "Epoch 35/200\n",
      "200/200 [==============================] - 0s 1ms/step - loss: 0.7188 - acc: 0.7010 - val_loss: 0.8725 - val_acc: 0.6855\n",
      "Epoch 36/200\n",
      "200/200 [==============================] - 0s 2ms/step - loss: 0.7127 - acc: 0.7019 - val_loss: 0.8492 - val_acc: 0.6892\n",
      "Epoch 37/200\n",
      "200/200 [==============================] - 0s 1ms/step - loss: 0.7073 - acc: 0.7050 - val_loss: 0.8678 - val_acc: 0.6805\n",
      "Epoch 38/200\n",
      "200/200 [==============================] - 0s 1ms/step - loss: 0.7019 - acc: 0.7055 - val_loss: 0.8650 - val_acc: 0.6867\n",
      "Epoch 39/200\n",
      "200/200 [==============================] - 0s 1ms/step - loss: 0.6962 - acc: 0.7101 - val_loss: 0.8809 - val_acc: 0.6742\n",
      "Epoch 40/200\n",
      "200/200 [==============================] - 0s 2ms/step - loss: 0.6916 - acc: 0.7066 - val_loss: 0.8537 - val_acc: 0.6855\n",
      "Epoch 41/200\n",
      "200/200 [==============================] - 0s 1ms/step - loss: 0.6866 - acc: 0.7119 - val_loss: 0.8479 - val_acc: 0.6905\n",
      "Epoch 42/200\n",
      "200/200 [==============================] - 0s 1ms/step - loss: 0.6815 - acc: 0.7160 - val_loss: 0.8710 - val_acc: 0.6779\n",
      "Epoch 43/200\n",
      "200/200 [==============================] - 0s 1ms/step - loss: 0.6769 - acc: 0.7129 - val_loss: 0.8360 - val_acc: 0.6992\n",
      "Epoch 44/200\n",
      "200/200 [==============================] - 0s 1ms/step - loss: 0.6725 - acc: 0.7176 - val_loss: 0.8242 - val_acc: 0.7005\n",
      "Epoch 45/200\n",
      "200/200 [==============================] - 0s 1ms/step - loss: 0.6671 - acc: 0.7157 - val_loss: 0.8361 - val_acc: 0.6980\n",
      "Epoch 46/200\n",
      "200/200 [==============================] - 0s 1ms/step - loss: 0.6636 - acc: 0.7188 - val_loss: 0.8311 - val_acc: 0.6980\n",
      "Epoch 47/200\n",
      "200/200 [==============================] - 0s 1ms/step - loss: 0.6590 - acc: 0.7245 - val_loss: 0.8656 - val_acc: 0.6779\n",
      "Epoch 48/200\n",
      "200/200 [==============================] - 0s 1ms/step - loss: 0.6556 - acc: 0.7224 - val_loss: 0.8618 - val_acc: 0.6867\n",
      "Epoch 49/200\n",
      "200/200 [==============================] - 0s 1ms/step - loss: 0.6509 - acc: 0.7206 - val_loss: 0.8229 - val_acc: 0.6980\n",
      "Epoch 50/200\n",
      "200/200 [==============================] - 0s 1ms/step - loss: 0.6473 - acc: 0.7284 - val_loss: 0.8309 - val_acc: 0.6980\n",
      "Epoch 51/200\n",
      "200/200 [==============================] - 0s 2ms/step - loss: 0.6437 - acc: 0.7276 - val_loss: 0.8393 - val_acc: 0.6880\n",
      "Epoch 52/200\n",
      "200/200 [==============================] - 0s 2ms/step - loss: 0.6407 - acc: 0.7292 - val_loss: 0.8274 - val_acc: 0.6967\n",
      "Epoch 53/200\n",
      "200/200 [==============================] - 0s 2ms/step - loss: 0.6366 - acc: 0.7315 - val_loss: 0.8217 - val_acc: 0.7005\n",
      "Epoch 54/200\n",
      "200/200 [==============================] - 0s 2ms/step - loss: 0.6327 - acc: 0.7326 - val_loss: 0.8475 - val_acc: 0.6805\n",
      "Epoch 55/200\n",
      "200/200 [==============================] - 0s 1ms/step - loss: 0.6294 - acc: 0.7306 - val_loss: 0.8240 - val_acc: 0.6955\n",
      "Epoch 56/200\n",
      "200/200 [==============================] - 0s 2ms/step - loss: 0.6250 - acc: 0.7337 - val_loss: 0.7874 - val_acc: 0.7143\n",
      "Epoch 57/200\n",
      "200/200 [==============================] - 0s 1ms/step - loss: 0.6220 - acc: 0.7381 - val_loss: 0.8499 - val_acc: 0.6779\n",
      "Epoch 58/200\n",
      "200/200 [==============================] - 0s 1ms/step - loss: 0.6198 - acc: 0.7359 - val_loss: 0.8134 - val_acc: 0.7043\n",
      "Epoch 59/200\n",
      "200/200 [==============================] - 0s 2ms/step - loss: 0.6160 - acc: 0.7384 - val_loss: 0.8277 - val_acc: 0.6892\n",
      "Epoch 60/200\n",
      "200/200 [==============================] - 0s 1ms/step - loss: 0.6127 - acc: 0.7362 - val_loss: 0.8049 - val_acc: 0.6980\n",
      "Epoch 61/200\n",
      "200/200 [==============================] - 0s 1ms/step - loss: 0.6100 - acc: 0.7393 - val_loss: 0.7964 - val_acc: 0.7080\n",
      "Epoch 62/200\n",
      "200/200 [==============================] - 0s 1ms/step - loss: 0.6073 - acc: 0.7386 - val_loss: 0.8074 - val_acc: 0.7005\n",
      "Epoch 63/200\n",
      "200/200 [==============================] - 0s 1ms/step - loss: 0.6039 - acc: 0.7397 - val_loss: 0.8014 - val_acc: 0.7018\n",
      "Epoch 64/200\n",
      "200/200 [==============================] - 0s 1ms/step - loss: 0.6010 - acc: 0.7406 - val_loss: 0.7731 - val_acc: 0.7193\n",
      "Epoch 65/200\n",
      "200/200 [==============================] - 0s 1ms/step - loss: 0.5985 - acc: 0.7450 - val_loss: 0.7966 - val_acc: 0.7030\n",
      "Epoch 66/200\n",
      "200/200 [==============================] - 0s 1ms/step - loss: 0.5943 - acc: 0.7415 - val_loss: 0.7837 - val_acc: 0.7118\n",
      "Epoch 67/200\n",
      "200/200 [==============================] - 0s 1ms/step - loss: 0.5921 - acc: 0.7451 - val_loss: 0.7987 - val_acc: 0.7018\n",
      "Epoch 68/200\n",
      "200/200 [==============================] - 0s 1ms/step - loss: 0.5897 - acc: 0.7447 - val_loss: 0.7624 - val_acc: 0.7231\n",
      "Epoch 69/200\n",
      "200/200 [==============================] - 0s 1ms/step - loss: 0.5868 - acc: 0.7453 - val_loss: 0.7955 - val_acc: 0.7055\n",
      "Epoch 70/200\n",
      "200/200 [==============================] - 0s 2ms/step - loss: 0.5844 - acc: 0.7480 - val_loss: 0.7759 - val_acc: 0.7168\n",
      "Epoch 71/200\n",
      "200/200 [==============================] - 0s 2ms/step - loss: 0.5820 - acc: 0.7483 - val_loss: 0.7655 - val_acc: 0.7243\n",
      "Epoch 72/200\n",
      "200/200 [==============================] - 0s 2ms/step - loss: 0.5791 - acc: 0.7470 - val_loss: 0.7649 - val_acc: 0.7206\n",
      "Epoch 73/200\n",
      "200/200 [==============================] - 0s 1ms/step - loss: 0.5772 - acc: 0.7492 - val_loss: 0.7640 - val_acc: 0.7218\n",
      "Epoch 74/200\n",
      "200/200 [==============================] - 0s 2ms/step - loss: 0.5747 - acc: 0.7489 - val_loss: 0.7661 - val_acc: 0.7143\n",
      "Epoch 75/200\n",
      "200/200 [==============================] - 0s 1ms/step - loss: 0.5724 - acc: 0.7494 - val_loss: 0.7715 - val_acc: 0.7118\n",
      "Epoch 76/200\n",
      "200/200 [==============================] - 0s 1ms/step - loss: 0.5699 - acc: 0.7525 - val_loss: 0.7951 - val_acc: 0.7043\n",
      "Epoch 77/200\n",
      "200/200 [==============================] - 0s 2ms/step - loss: 0.5680 - acc: 0.7514 - val_loss: 0.7766 - val_acc: 0.7118\n",
      "Epoch 78/200\n",
      "200/200 [==============================] - 0s 1ms/step - loss: 0.5653 - acc: 0.7513 - val_loss: 0.7502 - val_acc: 0.7306\n",
      "Epoch 79/200\n",
      "200/200 [==============================] - 0s 1ms/step - loss: 0.5623 - acc: 0.7544 - val_loss: 0.7793 - val_acc: 0.7143\n",
      "Epoch 80/200\n",
      "200/200 [==============================] - 0s 1ms/step - loss: 0.5609 - acc: 0.7527 - val_loss: 0.7617 - val_acc: 0.7180\n",
      "Epoch 81/200\n",
      "200/200 [==============================] - 0s 2ms/step - loss: 0.5578 - acc: 0.7570 - val_loss: 0.7727 - val_acc: 0.7118\n",
      "Epoch 82/200\n",
      "200/200 [==============================] - 0s 1ms/step - loss: 0.5565 - acc: 0.7580 - val_loss: 0.7842 - val_acc: 0.7043\n",
      "Epoch 83/200\n",
      "200/200 [==============================] - 0s 1ms/step - loss: 0.5537 - acc: 0.7574 - val_loss: 0.7981 - val_acc: 0.6967\n",
      "Epoch 84/200\n",
      "200/200 [==============================] - 0s 2ms/step - loss: 0.5523 - acc: 0.7575 - val_loss: 0.7382 - val_acc: 0.7356\n",
      "Epoch 85/200\n",
      "200/200 [==============================] - 0s 2ms/step - loss: 0.5498 - acc: 0.7575 - val_loss: 0.7587 - val_acc: 0.7180\n",
      "Epoch 86/200\n",
      "200/200 [==============================] - 0s 2ms/step - loss: 0.5480 - acc: 0.7574 - val_loss: 0.7219 - val_acc: 0.7368\n",
      "Epoch 87/200\n",
      "200/200 [==============================] - 0s 2ms/step - loss: 0.5462 - acc: 0.7611 - val_loss: 0.7445 - val_acc: 0.7268\n",
      "Epoch 88/200\n",
      "200/200 [==============================] - 0s 1ms/step - loss: 0.5443 - acc: 0.7605 - val_loss: 0.7627 - val_acc: 0.7155\n",
      "Epoch 89/200\n",
      "200/200 [==============================] - 0s 1ms/step - loss: 0.5418 - acc: 0.7625 - val_loss: 0.7458 - val_acc: 0.7206\n",
      "Epoch 90/200\n",
      "200/200 [==============================] - 0s 1ms/step - loss: 0.5400 - acc: 0.7649 - val_loss: 0.7596 - val_acc: 0.7068\n",
      "Epoch 91/200\n",
      "200/200 [==============================] - 0s 1ms/step - loss: 0.5371 - acc: 0.7610 - val_loss: 0.7292 - val_acc: 0.7231\n",
      "Epoch 92/200\n",
      "200/200 [==============================] - 0s 1ms/step - loss: 0.5365 - acc: 0.7641 - val_loss: 0.7459 - val_acc: 0.7218\n",
      "Epoch 93/200\n",
      "200/200 [==============================] - 0s 1ms/step - loss: 0.5342 - acc: 0.7630 - val_loss: 0.7361 - val_acc: 0.7268\n",
      "Epoch 94/200\n",
      "200/200 [==============================] - 0s 1ms/step - loss: 0.5324 - acc: 0.7666 - val_loss: 0.7572 - val_acc: 0.7130\n",
      "Epoch 95/200\n",
      "200/200 [==============================] - 0s 1ms/step - loss: 0.5305 - acc: 0.7639 - val_loss: 0.7375 - val_acc: 0.7180\n",
      "Epoch 96/200\n",
      "200/200 [==============================] - 0s 1ms/step - loss: 0.5290 - acc: 0.7675 - val_loss: 0.7476 - val_acc: 0.7206\n"
     ]
    }
   ],
   "source": [
    "history = model.fit(\n",
    "    x=X_tr, y=y_tr,\n",
    "    validation_data=(X_val, y_val), \n",
    "    batch_size=32, \n",
    "    epochs=200,\n",
    "    shuffle=True, # Shuffle training samples\n",
    "    callbacks=[early_stopping],\n",
    "    class_weight=train_class_weights,\n",
    ")"
   ]
  },
  {
   "cell_type": "markdown",
   "id": "3e2bd2c4",
   "metadata": {},
   "source": [
    "#### Plot loss and accuracy values"
   ]
  },
  {
   "cell_type": "code",
   "execution_count": 24,
   "id": "f896f2e6",
   "metadata": {
    "tags": []
   },
   "outputs": [],
   "source": [
    "%matplotlib inline\n",
    "import matplotlib.pyplot as plt\n",
    "import numpy as np\n",
    "\n",
    "def plot_acc(history, fig, axs):\n",
    "    # Plot accuracy values\n",
    "    ax1.plot(history.history['loss'], label='train loss')\n",
    "    ax1.plot(history.history['val_loss'], label='val loss')\n",
    "    ax1.set_title('Validation loss {:.3f} (mean last 3)'.format(\n",
    "        np.mean(history.history['val_loss'][-3:]) # last three values\n",
    "    ))\n",
    "    ax1.set_xlabel('epoch')\n",
    "    ax1.set_ylabel('loss value')\n",
    "    ax1.legend()\n",
    "\n",
    "    # Plot accuracy values\n",
    "    ax2.plot(history.history['acc'], label='train acc')\n",
    "    ax2.plot(history.history['val_acc'], label='val acc')\n",
    "    ax2.set_title('Validation accuracy {:.3f} (mean last 3)'.format(\n",
    "        np.mean(history.history['val_acc'][-3:]) # last three values\n",
    "    ))\n",
    "    ax2.set_xlabel('epoch')\n",
    "    ax2.set_ylabel('accuracy')\n",
    "    ax2.legend()\n",
    "    plt.show()"
   ]
  },
  {
   "cell_type": "code",
   "execution_count": 25,
   "id": "57cca909",
   "metadata": {},
   "outputs": [
    {
     "data": {
      "image/png": "[encoded data removed]",
      "text/plain": [
       "<Figure size 864x288 with 2 Axes>"
      ]
     },
     "metadata": {
      "needs_background": "light"
     },
     "output_type": "display_data"
    }
   ],
   "source": [
    "# Create two plots: one for the loss value, one for the accuracy\n",
    "fig, (ax1, ax2) = plt.subplots(nrows=1, ncols=2, figsize=(12, 4))\n",
    "plot_acc(history, fig, (ax1, ax2))"
   ]
  },
  {
   "cell_type": "markdown",
   "id": "ce6d6331-1372-47b1-ad49-484a78a093ad",
   "metadata": {},
   "source": [
    "Model learns very well, as both lines go nearly hand in hand, from epoch to epoch. Overfitting seems also not to be the case, as lines have not reached plateau."
   ]
  },
  {
   "cell_type": "markdown",
   "id": "3fd2593a",
   "metadata": {},
   "source": [
    "## 5. Two-layer dense network"
   ]
  },
  {
   "cell_type": "markdown",
   "id": "e7265ceb",
   "metadata": {},
   "source": [
    "#### Define sequential model"
   ]
  },
  {
   "cell_type": "markdown",
   "id": "6f403fbb-1a6b-4e10-ad54-7f7d247055a5",
   "metadata": {},
   "source": [
    "Here a model with one more dense layer (32 neurons, reLU (Rectified Linear Unit) activation) is defined."
   ]
  },
  {
   "cell_type": "code",
   "execution_count": 26,
   "id": "1355feea",
   "metadata": {},
   "outputs": [
    {
     "name": "stdout",
     "output_type": "stream",
     "text": [
      "Model: \"sequential_1\"\n",
      "_________________________________________________________________\n",
      "Layer (type)                 Output Shape              Param #   \n",
      "=================================================================\n",
      "dense_1 (Dense)              (None, 32)                40992     \n",
      "_________________________________________________________________\n",
      "dense_2 (Dense)              (None, 8)                 264       \n",
      "=================================================================\n",
      "Total params: 41,256\n",
      "Trainable params: 41,256\n",
      "Non-trainable params: 0\n",
      "_________________________________________________________________\n"
     ]
    }
   ],
   "source": [
    "model2 = Sequential()\n",
    "model2.add(Dense(32, activation='relu', input_dim=nf))\n",
    "model2.add(Dense(8, activation='softmax'))\n",
    "model2.summary()"
   ]
  },
  {
   "cell_type": "markdown",
   "id": "29048876",
   "metadata": {},
   "source": [
    "#### Define loss function, optimizer, and metrics to track during training"
   ]
  },
  {
   "cell_type": "code",
   "execution_count": 27,
   "id": "c15e1192",
   "metadata": {},
   "outputs": [],
   "source": [
    "model2.compile(\n",
    "    optimizer='sgd',  # Gradient descent (with momentum) optimizer\n",
    "    loss='sparse_categorical_crossentropy',  # labels are encoded as 0,1,2,... \n",
    "    metrics=['acc']  # track accuracy during training\n",
    ")"
   ]
  },
  {
   "cell_type": "markdown",
   "id": "d824c15d",
   "metadata": {},
   "source": [
    "#### End training when accuracy stops improving (optional)"
   ]
  },
  {
   "cell_type": "code",
   "execution_count": 28,
   "id": "e1d23a1e",
   "metadata": {
    "tags": []
   },
   "outputs": [],
   "source": [
    "early_stopping = EarlyStopping(monitor='val_loss', patience=6)"
   ]
  },
  {
   "cell_type": "markdown",
   "id": "2c2e4fdf",
   "metadata": {},
   "source": [
    "#### Fit model"
   ]
  },
  {
   "cell_type": "code",
   "execution_count": 29,
   "id": "e74574b9",
   "metadata": {
    "collapsed": true,
    "jupyter": {
     "outputs_hidden": true
    },
    "tags": []
   },
   "outputs": [
    {
     "name": "stdout",
     "output_type": "stream",
     "text": [
      "Epoch 1/200\n",
      "200/200 [==============================] - 1s 2ms/step - loss: 1.5851 - acc: 0.4594 - val_loss: 1.4627 - val_acc: 0.4799\n",
      "Epoch 2/200\n",
      "200/200 [==============================] - 0s 2ms/step - loss: 1.3356 - acc: 0.5446 - val_loss: 1.2826 - val_acc: 0.5489\n",
      "Epoch 3/200\n",
      "200/200 [==============================] - 0s 2ms/step - loss: 1.1967 - acc: 0.5785 - val_loss: 1.1670 - val_acc: 0.5802\n",
      "Epoch 4/200\n",
      "200/200 [==============================] - 0s 1ms/step - loss: 1.1064 - acc: 0.6101 - val_loss: 1.0899 - val_acc: 0.6190\n",
      "Epoch 5/200\n",
      "200/200 [==============================] - 0s 1ms/step - loss: 1.0413 - acc: 0.6311 - val_loss: 1.0369 - val_acc: 0.6253\n",
      "Epoch 6/200\n",
      "200/200 [==============================] - 0s 2ms/step - loss: 0.9846 - acc: 0.6491 - val_loss: 0.9956 - val_acc: 0.6216\n",
      "Epoch 7/200\n",
      "200/200 [==============================] - 0s 2ms/step - loss: 0.9378 - acc: 0.6654 - val_loss: 0.9623 - val_acc: 0.6328\n",
      "Epoch 8/200\n",
      "200/200 [==============================] - 0s 2ms/step - loss: 0.8974 - acc: 0.6797 - val_loss: 0.9120 - val_acc: 0.6767\n",
      "Epoch 9/200\n",
      "200/200 [==============================] - 0s 1ms/step - loss: 0.8628 - acc: 0.6891 - val_loss: 0.8863 - val_acc: 0.6667\n",
      "Epoch 10/200\n",
      "200/200 [==============================] - 0s 1ms/step - loss: 0.8311 - acc: 0.6986 - val_loss: 0.8519 - val_acc: 0.6892\n",
      "Epoch 11/200\n",
      "200/200 [==============================] - 0s 1ms/step - loss: 0.8019 - acc: 0.7160 - val_loss: 0.8258 - val_acc: 0.7143\n",
      "Epoch 12/200\n",
      "200/200 [==============================] - 0s 2ms/step - loss: 0.7759 - acc: 0.7224 - val_loss: 0.8142 - val_acc: 0.7168\n",
      "Epoch 13/200\n",
      "200/200 [==============================] - 0s 1ms/step - loss: 0.7522 - acc: 0.7310 - val_loss: 0.7772 - val_acc: 0.7206\n",
      "Epoch 14/200\n",
      "200/200 [==============================] - 0s 1ms/step - loss: 0.7288 - acc: 0.7386 - val_loss: 0.7867 - val_acc: 0.7231\n",
      "Epoch 15/200\n",
      "200/200 [==============================] - 0s 2ms/step - loss: 0.7098 - acc: 0.7456 - val_loss: 0.7461 - val_acc: 0.7469\n",
      "Epoch 16/200\n",
      "200/200 [==============================] - 0s 2ms/step - loss: 0.6914 - acc: 0.7564 - val_loss: 0.7418 - val_acc: 0.7318\n",
      "Epoch 17/200\n",
      "200/200 [==============================] - 0s 2ms/step - loss: 0.6736 - acc: 0.7624 - val_loss: 0.7211 - val_acc: 0.7644\n",
      "Epoch 18/200\n",
      "200/200 [==============================] - 0s 2ms/step - loss: 0.6587 - acc: 0.7639 - val_loss: 0.7229 - val_acc: 0.7644\n",
      "Epoch 19/200\n",
      "200/200 [==============================] - 0s 2ms/step - loss: 0.6420 - acc: 0.7716 - val_loss: 0.6964 - val_acc: 0.7682\n",
      "Epoch 20/200\n",
      "200/200 [==============================] - 0s 2ms/step - loss: 0.6270 - acc: 0.7790 - val_loss: 0.6877 - val_acc: 0.7669\n",
      "Epoch 21/200\n",
      "200/200 [==============================] - 0s 2ms/step - loss: 0.6125 - acc: 0.7782 - val_loss: 0.7041 - val_acc: 0.7544\n",
      "Epoch 22/200\n",
      "200/200 [==============================] - 0s 2ms/step - loss: 0.5987 - acc: 0.7903 - val_loss: 0.6622 - val_acc: 0.7707\n",
      "Epoch 23/200\n",
      "200/200 [==============================] - 0s 2ms/step - loss: 0.5874 - acc: 0.7904 - val_loss: 0.6581 - val_acc: 0.7807\n",
      "Epoch 24/200\n",
      "200/200 [==============================] - 0s 1ms/step - loss: 0.5742 - acc: 0.7986 - val_loss: 0.6529 - val_acc: 0.7694\n",
      "Epoch 25/200\n",
      "200/200 [==============================] - 0s 2ms/step - loss: 0.5648 - acc: 0.8006 - val_loss: 0.6615 - val_acc: 0.7757\n",
      "Epoch 26/200\n",
      "200/200 [==============================] - 0s 2ms/step - loss: 0.5560 - acc: 0.8011 - val_loss: 0.6303 - val_acc: 0.7895\n",
      "Epoch 27/200\n",
      "200/200 [==============================] - 0s 2ms/step - loss: 0.5443 - acc: 0.8112 - val_loss: 0.6337 - val_acc: 0.7807\n",
      "Epoch 28/200\n",
      "200/200 [==============================] - 0s 1ms/step - loss: 0.5349 - acc: 0.8119 - val_loss: 0.6219 - val_acc: 0.7782\n",
      "Epoch 29/200\n",
      "200/200 [==============================] - 0s 2ms/step - loss: 0.5244 - acc: 0.8169 - val_loss: 0.6132 - val_acc: 0.7907\n",
      "Epoch 30/200\n",
      "200/200 [==============================] - 0s 1ms/step - loss: 0.5164 - acc: 0.8208 - val_loss: 0.6050 - val_acc: 0.7920\n",
      "Epoch 31/200\n",
      "200/200 [==============================] - 0s 1ms/step - loss: 0.5069 - acc: 0.8236 - val_loss: 0.5997 - val_acc: 0.7870\n",
      "Epoch 32/200\n",
      "200/200 [==============================] - 0s 2ms/step - loss: 0.4991 - acc: 0.8315 - val_loss: 0.5942 - val_acc: 0.7957\n",
      "Epoch 33/200\n",
      "200/200 [==============================] - 0s 2ms/step - loss: 0.4900 - acc: 0.8327 - val_loss: 0.5830 - val_acc: 0.7932\n",
      "Epoch 34/200\n",
      "200/200 [==============================] - 0s 1ms/step - loss: 0.4820 - acc: 0.8330 - val_loss: 0.6057 - val_acc: 0.7932\n",
      "Epoch 35/200\n",
      "200/200 [==============================] - 0s 1ms/step - loss: 0.4738 - acc: 0.8343 - val_loss: 0.5802 - val_acc: 0.7957\n",
      "Epoch 36/200\n",
      "200/200 [==============================] - 0s 1ms/step - loss: 0.4665 - acc: 0.8402 - val_loss: 0.5722 - val_acc: 0.7982\n",
      "Epoch 37/200\n",
      "200/200 [==============================] - 0s 2ms/step - loss: 0.4603 - acc: 0.8402 - val_loss: 0.5637 - val_acc: 0.8033\n",
      "Epoch 38/200\n",
      "200/200 [==============================] - 0s 2ms/step - loss: 0.4526 - acc: 0.8463 - val_loss: 0.5675 - val_acc: 0.8045\n",
      "Epoch 39/200\n",
      "200/200 [==============================] - 0s 2ms/step - loss: 0.4469 - acc: 0.8487 - val_loss: 0.5673 - val_acc: 0.7957\n",
      "Epoch 40/200\n",
      "200/200 [==============================] - 0s 2ms/step - loss: 0.4405 - acc: 0.8499 - val_loss: 0.5874 - val_acc: 0.7870\n",
      "Epoch 41/200\n",
      "200/200 [==============================] - 0s 2ms/step - loss: 0.4341 - acc: 0.8529 - val_loss: 0.5538 - val_acc: 0.8095\n",
      "Epoch 42/200\n",
      "200/200 [==============================] - 0s 2ms/step - loss: 0.4288 - acc: 0.8532 - val_loss: 0.5582 - val_acc: 0.8108\n",
      "Epoch 43/200\n",
      "200/200 [==============================] - 0s 2ms/step - loss: 0.4213 - acc: 0.8578 - val_loss: 0.5529 - val_acc: 0.8145\n",
      "Epoch 44/200\n",
      "200/200 [==============================] - 0s 2ms/step - loss: 0.4153 - acc: 0.8586 - val_loss: 0.5646 - val_acc: 0.8033\n",
      "Epoch 45/200\n",
      "200/200 [==============================] - 0s 2ms/step - loss: 0.4096 - acc: 0.8593 - val_loss: 0.5596 - val_acc: 0.8045\n",
      "Epoch 46/200\n",
      "200/200 [==============================] - 0s 2ms/step - loss: 0.4045 - acc: 0.8612 - val_loss: 0.5513 - val_acc: 0.8058\n",
      "Epoch 47/200\n",
      "200/200 [==============================] - 0s 2ms/step - loss: 0.3999 - acc: 0.8626 - val_loss: 0.5389 - val_acc: 0.8133\n",
      "Epoch 48/200\n",
      "200/200 [==============================] - 0s 2ms/step - loss: 0.3924 - acc: 0.8687 - val_loss: 0.5381 - val_acc: 0.8070\n",
      "Epoch 49/200\n",
      "200/200 [==============================] - 0s 2ms/step - loss: 0.3869 - acc: 0.8712 - val_loss: 0.5371 - val_acc: 0.8183\n",
      "Epoch 50/200\n",
      "200/200 [==============================] - 0s 2ms/step - loss: 0.3817 - acc: 0.8741 - val_loss: 0.5550 - val_acc: 0.7970\n",
      "Epoch 51/200\n",
      "200/200 [==============================] - 0s 2ms/step - loss: 0.3795 - acc: 0.8708 - val_loss: 0.5270 - val_acc: 0.8208\n",
      "Epoch 52/200\n",
      "200/200 [==============================] - 0s 2ms/step - loss: 0.3725 - acc: 0.8759 - val_loss: 0.5327 - val_acc: 0.8108\n",
      "Epoch 53/200\n",
      "200/200 [==============================] - 0s 2ms/step - loss: 0.3692 - acc: 0.8767 - val_loss: 0.5214 - val_acc: 0.8195\n",
      "Epoch 54/200\n",
      "200/200 [==============================] - 0s 2ms/step - loss: 0.3643 - acc: 0.8777 - val_loss: 0.5193 - val_acc: 0.8208\n",
      "Epoch 55/200\n",
      "200/200 [==============================] - 0s 2ms/step - loss: 0.3587 - acc: 0.8819 - val_loss: 0.5293 - val_acc: 0.8158\n",
      "Epoch 56/200\n",
      "200/200 [==============================] - 0s 2ms/step - loss: 0.3547 - acc: 0.8827 - val_loss: 0.5147 - val_acc: 0.8183\n",
      "Epoch 57/200\n",
      "200/200 [==============================] - 0s 2ms/step - loss: 0.3497 - acc: 0.8827 - val_loss: 0.5304 - val_acc: 0.8108\n",
      "Epoch 58/200\n",
      "200/200 [==============================] - 0s 2ms/step - loss: 0.3456 - acc: 0.8866 - val_loss: 0.5221 - val_acc: 0.8158\n",
      "Epoch 59/200\n",
      "200/200 [==============================] - 0s 2ms/step - loss: 0.3407 - acc: 0.8864 - val_loss: 0.5224 - val_acc: 0.8133\n",
      "Epoch 60/200\n",
      "200/200 [==============================] - 0s 2ms/step - loss: 0.3376 - acc: 0.8866 - val_loss: 0.5372 - val_acc: 0.8120\n",
      "Epoch 61/200\n",
      "200/200 [==============================] - 0s 2ms/step - loss: 0.3319 - acc: 0.8907 - val_loss: 0.5155 - val_acc: 0.8221\n",
      "Epoch 62/200\n",
      "200/200 [==============================] - 0s 2ms/step - loss: 0.3273 - acc: 0.8913 - val_loss: 0.5267 - val_acc: 0.8108\n"
     ]
    }
   ],
   "source": [
    "history2 = model2.fit(\n",
    "    x=X_tr, y=y_tr,\n",
    "    validation_data=(X_val, y_val), \n",
    "    batch_size=32, \n",
    "    epochs=200,\n",
    "    shuffle=True, # Shuffle training samples\n",
    "    callbacks=[early_stopping]\n",
    ")"
   ]
  },
  {
   "cell_type": "markdown",
   "id": "1d17260a",
   "metadata": {},
   "source": [
    "#### Plot loss and accuracy values"
   ]
  },
  {
   "cell_type": "code",
   "execution_count": 30,
   "id": "a97869c1",
   "metadata": {
    "tags": []
   },
   "outputs": [
    {
     "data": {
      "image/png": "[encoded data removed]",
      "text/plain": [
       "<Figure size 864x288 with 2 Axes>"
      ]
     },
     "metadata": {
      "needs_background": "light"
     },
     "output_type": "display_data"
    }
   ],
   "source": [
    "# Create two plots: one for the loss value, one for the accuracy\n",
    "fig, (ax1, ax2) = plt.subplots(nrows=1, ncols=2, figsize=(12, 4))\n",
    "plot_acc(history2, fig, (ax1, ax2))"
   ]
  },
  {
   "cell_type": "markdown",
   "id": "e7d7c13f-d35f-425f-bc84-1f3781076719",
   "metadata": {},
   "source": [
    "Model learns very well, as both lines go nearly hand in hand, from epoch to epoch. Overfitting seems to start at epoch 50, as validation accuracy reaches plateau."
   ]
  },
  {
   "cell_type": "markdown",
   "id": "e6cff330-e405-45c9-ba12-71e583e0fa73",
   "metadata": {
    "tags": []
   },
   "source": [
    "## 6. Evaluate models on test data"
   ]
  },
  {
   "cell_type": "markdown",
   "id": "2ccc2458-4c7f-4fe6-bdf7-e3fd054da41c",
   "metadata": {},
   "source": [
    "#### Evaluate one-layer dense network"
   ]
  },
  {
   "cell_type": "code",
   "execution_count": 34,
   "id": "60502f76-ff71-4bfd-a679-b1fa7f003d34",
   "metadata": {
    "tags": []
   },
   "outputs": [
    {
     "name": "stdout",
     "output_type": "stream",
     "text": [
      "Test accuracy 1-layer model: 0.727\n"
     ]
    }
   ],
   "source": [
    "\n",
    "loss, accuracy = model.evaluate(X_te, y_te, verbose=0)\n",
    "\n",
    "print('Test accuracy 1-layer model: {:.3f}'.format(accuracy))\n",
    "\n",
    "# save result to file\n",
    "df = pd.DataFrame({\n",
    "    'HLfeatures model': model_str,\n",
    "    'model': '1-layer nn', \n",
    "    'test_accuracy': np.round(accuracy,3)}, index=[0])\n",
    "#df.to_csv('testacc.txt', mode='a', header=False)"
   ]
  },
  {
   "cell_type": "markdown",
   "id": "c161583b-76f6-420a-942e-5986d49ad9a5",
   "metadata": {},
   "source": [
    "#### Evaluate two-layer dense network"
   ]
  },
  {
   "cell_type": "code",
   "execution_count": 35,
   "id": "83340ebd-7813-4660-b764-2cf25f3c4b7b",
   "metadata": {
    "tags": []
   },
   "outputs": [
    {
     "name": "stdout",
     "output_type": "stream",
     "text": [
      "Test accuracy 2-layer model: 0.803\n"
     ]
    }
   ],
   "source": [
    "# evaluate the model\n",
    "loss, accuracy, = model2.evaluate(X_te, y_te, verbose=0)\n",
    "\n",
    "print('Test accuracy 2-layer model: {:.3f}'.format(accuracy))\n",
    "\n",
    "# save result to file\n",
    "df = pd.DataFrame({\n",
    "    'HLfeatures model': model_str,\n",
    "    'model': '2-layer nn', \n",
    "    'test_accuracy': np.round(accuracy,3)}, index=[0])\n",
    "#df.to_csv('testacc.txt', mode='a', header=False)"
   ]
  },
  {
   "cell_type": "code",
   "execution_count": null,
   "id": "5c82c5f3-c302-4e6d-beb1-86805149c7cd",
   "metadata": {
    "tags": []
   },
   "outputs": [],
   "source": []
  }
 ],
 "metadata": {
  "kernelspec": {
   "display_name": "Python 3 (ipykernel)",
   "language": "python",
   "name": "python3"
  },
  "language_info": {
   "codemirror_mode": {
    "name": "ipython",
    "version": 3
   },
   "file_extension": ".py",
   "mimetype": "text/x-python",
   "name": "python",
   "nbconvert_exporter": "python",
   "pygments_lexer": "ipython3",
   "version": "3.9.10"
  }
 },
 "nbformat": 4,
 "nbformat_minor": 5
}
