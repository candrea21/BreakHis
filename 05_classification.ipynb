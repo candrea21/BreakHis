{
 "cells": [
  {
   "cell_type": "markdown",
   "id": "e8570ef0",
   "metadata": {},
   "source": [
    "# Classification"
   ]
  },
  {
   "cell_type": "markdown",
   "id": "f2161a67-4b40-4a7a-b2e8-e762475480e3",
   "metadata": {},
   "source": [
    "For classification I use three models: logistic regression, a one-layer dense network, and a two-layer dense network. First the high-level features data is split in training, validation, and test data. At the end, I compare performance of the classification models for each model used for feature extraction."
   ]
  },
  {
   "cell_type": "markdown",
   "id": "44036307-3014-4a84-ab31-7be8bafaa3dd",
   "metadata": {},
   "source": [
    "## 1. Import packages, define class names, select model, and load features from file"
   ]
  },
  {
   "cell_type": "code",
   "execution_count": 32,
   "id": "a2a83ec8",
   "metadata": {
    "collapsed": true,
    "jupyter": {
     "outputs_hidden": true,
     "source_hidden": true
    }
   },
   "outputs": [],
   "source": [
    "import numpy as np\n",
    "import os\n",
    "import pandas as pd\n",
    "import re\n",
    "from sklearn.utils import class_weight "
   ]
  },
  {
   "cell_type": "code",
   "execution_count": 186,
   "id": "4b04d82a",
   "metadata": {
    "collapsed": true,
    "jupyter": {
     "outputs_hidden": true,
     "source_hidden": true
    }
   },
   "outputs": [],
   "source": [
    "class_names = ['adenosis',\n",
    "            'ductal_carcinoma',\n",
    "            'fibroadenoma',\n",
    "            'lobular_carcinoma',\n",
    "            'mucinous_carcinoma',\n",
    "            'papillary_carcinoma',\n",
    "            'phyllodes_tumor',\n",
    "            'tubular_adenoma']"
   ]
  },
  {
   "cell_type": "markdown",
   "id": "87c8f548-4f83-4dbb-a95c-f9550618e4fd",
   "metadata": {},
   "source": [
    "#### Choose one of the models"
   ]
  },
  {
   "cell_type": "code",
   "execution_count": 181,
   "id": "a139c987-a04b-4d15-b3f6-511157b25d5e",
   "metadata": {
    "collapsed": true,
    "jupyter": {
     "outputs_hidden": true,
     "source_hidden": true
    }
   },
   "outputs": [],
   "source": [
    "isVGG16=False\n",
    "isInceptionV3=False\n",
    "isResNet50=False\n",
    "isXception=False\n",
    "isDenseNet121=False\n",
    "isInceptionResNetV2=False\n",
    "isEfficientNet0=True"
   ]
  },
  {
   "cell_type": "markdown",
   "id": "b2604b96-6433-47b0-998b-ac6e0840d95a",
   "metadata": {},
   "source": [
    "#### Set high-level feature file name"
   ]
  },
  {
   "cell_type": "code",
   "execution_count": 182,
   "id": "c63bb727-76a1-4616-96d6-8c4e4f84ba00",
   "metadata": {
    "collapsed": true,
    "jupyter": {
     "outputs_hidden": true,
     "source_hidden": true
    }
   },
   "outputs": [],
   "source": [
    "if isVGG16==True:             ffilename = 'features_patches_VGG16.npz'\n",
    "if isInceptionV3==True:       ffilename = 'features_patches_InceptionV3.npz'\n",
    "if isResNet50==True:          ffilename = 'features_patches_ResNet50.npz'\n",
    "if isXception==True:          ffilename = 'features_patches_Xception.npz'\n",
    "if isDenseNet121==True:       ffilename = 'features_patches_DenseNet121.npz'\n",
    "if isInceptionResNetV2==True: ffilename = 'features_patches_InceptionResNetV2.npz'\n",
    "if isEfficientNet0==True:     ffilename = 'features_patches_EfficientNetB0.npz'"
   ]
  },
  {
   "cell_type": "markdown",
   "id": "c22e51b3-6948-4acb-af40-2617be4d6c46",
   "metadata": {},
   "source": [
    "#### Get model's name as string"
   ]
  },
  {
   "cell_type": "code",
   "execution_count": 183,
   "id": "e65c62c6-d502-4aab-b441-374909e2135f",
   "metadata": {
    "collapsed": true,
    "jupyter": {
     "outputs_hidden": true,
     "source_hidden": true
    }
   },
   "outputs": [
    {
     "data": {
      "text/plain": [
       "'EfficientNetB0'"
      ]
     },
     "execution_count": 183,
     "metadata": {},
     "output_type": "execute_result"
    }
   ],
   "source": [
    "model_str = re.sub('.*_(.*)\\.npz', '\\\\1', ffilename)\n",
    "model_str"
   ]
  },
  {
   "cell_type": "markdown",
   "id": "0595756b-e805-48ef-a1d9-f842955f0ebf",
   "metadata": {},
   "source": [
    "#### Load features from file"
   ]
  },
  {
   "cell_type": "code",
   "execution_count": 184,
   "id": "45d7bc04",
   "metadata": {
    "collapsed": true,
    "jupyter": {
     "outputs_hidden": true,
     "source_hidden": true
    }
   },
   "outputs": [
    {
     "name": "stdout",
     "output_type": "stream",
     "text": [
      "Shape of features: (7980, 1280) \n",
      "Shape of labs: (7980,) \n",
      "Shape of filenames: (7980,)\n"
     ]
    }
   ],
   "source": [
    "with np.load(os.path.join('data', 'HLfeatures', ffilename)) as features_npz:\n",
    "    features_dict = dict(features_npz)\n",
    "\n",
    "nf = features_dict['arr_0'].shape[1] - 2\n",
    "features = features_dict['arr_0'][:,:nf].astype(float)\n",
    "labs = features_dict['arr_0'][:,nf].astype(int)\n",
    "fns = features_dict['arr_0'][:,-1]\n",
    "print('Shape of features:', features.shape, '\\nShape of labs:', labs.shape, '\\nShape of filenames:', fns.shape)"
   ]
  },
  {
   "cell_type": "code",
   "execution_count": 185,
   "id": "8484d8ba",
   "metadata": {
    "collapsed": true,
    "jupyter": {
     "outputs_hidden": true,
     "source_hidden": true
    }
   },
   "outputs": [
    {
     "name": "stdout",
     "output_type": "stream",
     "text": [
      "dtype of features: float64 \n",
      "dtype of labels:   int64\n"
     ]
    }
   ],
   "source": [
    "print('dtype of features:', features.dtype, '\\ndtype of labels:  ', labs.dtype)"
   ]
  },
  {
   "cell_type": "markdown",
   "id": "c0652828",
   "metadata": {},
   "source": [
    "## 2. Split fetures in train (80%), validation (10%), and test (10%) data"
   ]
  },
  {
   "cell_type": "code",
   "execution_count": 187,
   "id": "2f1601f8",
   "metadata": {
    "collapsed": true,
    "jupyter": {
     "outputs_hidden": true,
     "source_hidden": true
    },
    "tags": []
   },
   "outputs": [],
   "source": [
    "from sklearn.model_selection import train_test_split"
   ]
  },
  {
   "cell_type": "code",
   "execution_count": 188,
   "id": "c5925ef2",
   "metadata": {
    "collapsed": true,
    "jupyter": {
     "outputs_hidden": true,
     "source_hidden": true
    }
   },
   "outputs": [
    {
     "name": "stdout",
     "output_type": "stream",
     "text": [
      "train X: (6384, 1280) \n",
      "      y: (6384,)\n",
      "valid X: (798, 1280) \n",
      "      y: (798,)\n",
      "test  X: (798, 1280) \n",
      "      y: (798,)\n"
     ]
    }
   ],
   "source": [
    "# Split into train/rest sets\n",
    "X_tr, X_, y_tr, y_, fn_tr, fn_ = train_test_split(\n",
    "    features, labs, fns,\n",
    "    test_size=0.2, random_state=0)\n",
    "\n",
    "# Split into valid/test sets\n",
    "X_val, X_te, y_val, y_te, fn_val, fn_te = train_test_split(\n",
    "    X_, y_, fn_, \n",
    "    test_size=0.5, random_state=0)\n",
    "\n",
    "print('train X:', X_tr.shape, '\\n      y:', y_tr.shape)\n",
    "print('valid X:', X_val.shape, '\\n      y:', y_val.shape)\n",
    "print('test  X:', X_te.shape, '\\n      y:', y_te.shape)"
   ]
  },
  {
   "cell_type": "code",
   "execution_count": null,
   "id": "9ce21151",
   "metadata": {
    "collapsed": true,
    "jupyter": {
     "outputs_hidden": true,
     "source_hidden": true
    }
   },
   "outputs": [],
   "source": []
  },
  {
   "cell_type": "markdown",
   "id": "09479dea",
   "metadata": {},
   "source": [
    "#### Proportion of numbers per class"
   ]
  },
  {
   "cell_type": "code",
   "execution_count": 189,
   "id": "8624cca3",
   "metadata": {
    "collapsed": true,
    "jupyter": {
     "outputs_hidden": true,
     "source_hidden": true
    }
   },
   "outputs": [],
   "source": [
    "def get_counts(y):\n",
    "    labs_num = pd.DataFrame(y)[0]\n",
    "    labs_num_prop = labs_num.value_counts(normalize=True).sort_index()\n",
    "    labs_num_prop = np.round(labs_num_prop*100, 1)\n",
    "    labs_num_count = labs_num.value_counts().sort_index()\n",
    "    return(labs_num_count, labs_num_prop)"
   ]
  },
  {
   "cell_type": "code",
   "execution_count": 190,
   "id": "2455e6ef",
   "metadata": {
    "collapsed": true,
    "jupyter": {
     "outputs_hidden": true,
     "source_hidden": true
    }
   },
   "outputs": [
    {
     "data": {
      "text/html": [
       "<div>\n",
       "<style scoped>\n",
       "    .dataframe tbody tr th:only-of-type {\n",
       "        vertical-align: middle;\n",
       "    }\n",
       "\n",
       "    .dataframe tbody tr th {\n",
       "        vertical-align: top;\n",
       "    }\n",
       "\n",
       "    .dataframe thead th {\n",
       "        text-align: right;\n",
       "    }\n",
       "</style>\n",
       "<table border=\"1\" class=\"dataframe\">\n",
       "  <thead>\n",
       "    <tr style=\"text-align: right;\">\n",
       "      <th></th>\n",
       "      <th>count train</th>\n",
       "      <th>count validation</th>\n",
       "      <th>count test</th>\n",
       "      <th>proportion train (%)</th>\n",
       "      <th>proportion validation (%)</th>\n",
       "      <th>proportion test (%)</th>\n",
       "    </tr>\n",
       "  </thead>\n",
       "  <tbody>\n",
       "    <tr>\n",
       "      <th>adenosis</th>\n",
       "      <td>378</td>\n",
       "      <td>35</td>\n",
       "      <td>43</td>\n",
       "      <td>5.9</td>\n",
       "      <td>4.4</td>\n",
       "      <td>5.4</td>\n",
       "    </tr>\n",
       "    <tr>\n",
       "      <th>ductal_carcinoma</th>\n",
       "      <td>2790</td>\n",
       "      <td>334</td>\n",
       "      <td>332</td>\n",
       "      <td>43.7</td>\n",
       "      <td>41.9</td>\n",
       "      <td>41.6</td>\n",
       "    </tr>\n",
       "    <tr>\n",
       "      <th>fibroadenoma</th>\n",
       "      <td>808</td>\n",
       "      <td>105</td>\n",
       "      <td>99</td>\n",
       "      <td>12.7</td>\n",
       "      <td>13.2</td>\n",
       "      <td>12.4</td>\n",
       "    </tr>\n",
       "    <tr>\n",
       "      <th>lobular_carcinoma</th>\n",
       "      <td>505</td>\n",
       "      <td>62</td>\n",
       "      <td>57</td>\n",
       "      <td>7.9</td>\n",
       "      <td>7.8</td>\n",
       "      <td>7.1</td>\n",
       "    </tr>\n",
       "    <tr>\n",
       "      <th>mucinous_carcinoma</th>\n",
       "      <td>635</td>\n",
       "      <td>84</td>\n",
       "      <td>101</td>\n",
       "      <td>9.9</td>\n",
       "      <td>10.5</td>\n",
       "      <td>12.7</td>\n",
       "    </tr>\n",
       "    <tr>\n",
       "      <th>papillary_carcinoma</th>\n",
       "      <td>451</td>\n",
       "      <td>75</td>\n",
       "      <td>54</td>\n",
       "      <td>7.1</td>\n",
       "      <td>9.4</td>\n",
       "      <td>6.8</td>\n",
       "    </tr>\n",
       "    <tr>\n",
       "      <th>phyllodes_tumor</th>\n",
       "      <td>354</td>\n",
       "      <td>42</td>\n",
       "      <td>40</td>\n",
       "      <td>5.5</td>\n",
       "      <td>5.3</td>\n",
       "      <td>5.0</td>\n",
       "    </tr>\n",
       "    <tr>\n",
       "      <th>tubular_adenoma</th>\n",
       "      <td>463</td>\n",
       "      <td>61</td>\n",
       "      <td>72</td>\n",
       "      <td>7.3</td>\n",
       "      <td>7.6</td>\n",
       "      <td>9.0</td>\n",
       "    </tr>\n",
       "  </tbody>\n",
       "</table>\n",
       "</div>"
      ],
      "text/plain": [
       "                     count train  count validation  count test  \\\n",
       "adenosis                     378                35          43   \n",
       "ductal_carcinoma            2790               334         332   \n",
       "fibroadenoma                 808               105          99   \n",
       "lobular_carcinoma            505                62          57   \n",
       "mucinous_carcinoma           635                84         101   \n",
       "papillary_carcinoma          451                75          54   \n",
       "phyllodes_tumor              354                42          40   \n",
       "tubular_adenoma              463                61          72   \n",
       "\n",
       "                     proportion train (%)  proportion validation (%)  \\\n",
       "adenosis                              5.9                        4.4   \n",
       "ductal_carcinoma                     43.7                       41.9   \n",
       "fibroadenoma                         12.7                       13.2   \n",
       "lobular_carcinoma                     7.9                        7.8   \n",
       "mucinous_carcinoma                    9.9                       10.5   \n",
       "papillary_carcinoma                   7.1                        9.4   \n",
       "phyllodes_tumor                       5.5                        5.3   \n",
       "tubular_adenoma                       7.3                        7.6   \n",
       "\n",
       "                     proportion test (%)  \n",
       "adenosis                             5.4  \n",
       "ductal_carcinoma                    41.6  \n",
       "fibroadenoma                        12.4  \n",
       "lobular_carcinoma                    7.1  \n",
       "mucinous_carcinoma                  12.7  \n",
       "papillary_carcinoma                  6.8  \n",
       "phyllodes_tumor                      5.0  \n",
       "tubular_adenoma                      9.0  "
      ]
     },
     "execution_count": 190,
     "metadata": {},
     "output_type": "execute_result"
    }
   ],
   "source": [
    "count_tr, prop_tr   = get_counts(y_tr)\n",
    "count_val, prop_val = get_counts(y_val)\n",
    "count_te, prop_te   = get_counts(y_te)\n",
    "\n",
    "class_df = pd.DataFrame({'count train': count_tr, 'count validation': count_val, 'count test': count_te,\n",
    "                         'proportion train (%)': prop_tr, 'proportion validation (%)': prop_val,'proportion test (%)': prop_te,})\n",
    "class_df.index = class_names\n",
    "class_df"
   ]
  },
  {
   "cell_type": "markdown",
   "id": "c94e1abe-2e10-4cff-843d-74876cc9d620",
   "metadata": {},
   "source": [
    "#### Compute class weights"
   ]
  },
  {
   "cell_type": "code",
   "execution_count": 191,
   "id": "ec88a977",
   "metadata": {
    "collapsed": true,
    "jupyter": {
     "outputs_hidden": true,
     "source_hidden": true
    }
   },
   "outputs": [
    {
     "data": {
      "text/plain": [
       "{0: 2.111111111111111,\n",
       " 1: 0.2860215053763441,\n",
       " 2: 0.9876237623762376,\n",
       " 3: 1.5801980198019803,\n",
       " 4: 1.2566929133858267,\n",
       " 5: 1.76940133037694,\n",
       " 6: 2.2542372881355934,\n",
       " 7: 1.7235421166306695}"
      ]
     },
     "execution_count": 191,
     "metadata": {},
     "output_type": "execute_result"
    }
   ],
   "source": [
    "# https://stackoverflow.com/a/67678520\n",
    "class_weights = class_weight.compute_class_weight(\n",
    "    class_weight='balanced',\n",
    "    classes=np.unique(y_tr), \n",
    "    y=y_tr)\n",
    "\n",
    "train_class_weights = dict(enumerate(class_weights))\n",
    "train_class_weights"
   ]
  },
  {
   "cell_type": "markdown",
   "id": "85293bd9",
   "metadata": {},
   "source": [
    "## 3. Logistic regression"
   ]
  },
  {
   "cell_type": "markdown",
   "id": "39b13407-840d-4370-bb5c-fad70fb8d4dd",
   "metadata": {},
   "source": [
    "#### Import packages"
   ]
  },
  {
   "cell_type": "code",
   "execution_count": null,
   "id": "62fbe8e3-6de8-4a0b-973b-1c1211b25463",
   "metadata": {
    "collapsed": true,
    "jupyter": {
     "outputs_hidden": true,
     "source_hidden": true
    }
   },
   "outputs": [],
   "source": [
    "from sklearn.linear_model import LogisticRegression\n",
    "from sklearn.preprocessing import StandardScaler\n",
    "from sklearn.pipeline import make_pipeline\n"
   ]
  },
  {
   "cell_type": "markdown",
   "id": "23f30f77-d375-468f-9952-1f89f0410f26",
   "metadata": {},
   "source": [
    "#### Create the estimator"
   ]
  },
  {
   "cell_type": "code",
   "execution_count": 192,
   "id": "ba6a452c",
   "metadata": {
    "collapsed": true,
    "jupyter": {
     "outputs_hidden": true,
     "source_hidden": true
    },
    "tags": []
   },
   "outputs": [
    {
     "name": "stdout",
     "output_type": "stream",
     "text": [
      "Accuracy: 0.788\n"
     ]
    }
   ],
   "source": [
    "logreg = make_pipeline(\n",
    "    StandardScaler(), \n",
    "    LogisticRegression(solver='liblinear',  multi_class='auto', class_weight=train_class_weights)\n",
    ")"
   ]
  },
  {
   "cell_type": "markdown",
   "id": "47697292-3229-4b8a-ab6b-900f429022fa",
   "metadata": {},
   "source": [
    "#### Fit it to train data"
   ]
  },
  {
   "cell_type": "code",
   "execution_count": null,
   "id": "1891eb95-ace8-4b58-aa55-a130b4da6603",
   "metadata": {
    "collapsed": true,
    "jupyter": {
     "outputs_hidden": true,
     "source_hidden": true
    }
   },
   "outputs": [],
   "source": [
    "logreg.fit(X_tr, y_tr)"
   ]
  },
  {
   "cell_type": "markdown",
   "id": "9dfe0417-97a0-41ce-80cb-0f551f7d6a38",
   "metadata": {},
   "source": [
    "#### Accuracy on test set"
   ]
  },
  {
   "cell_type": "code",
   "execution_count": null,
   "id": "d1c0c85f-ce32-4b30-be04-8e0e17337902",
   "metadata": {
    "collapsed": true,
    "jupyter": {
     "outputs_hidden": true,
     "source_hidden": true
    }
   },
   "outputs": [],
   "source": [
    "accuracy = logreg.score(X_te, y_te)\n",
    "print('Accuracy: {:.3f}'.format(accuracy))"
   ]
  },
  {
   "cell_type": "markdown",
   "id": "349589c8-a955-43e4-a347-df33ef2346d0",
   "metadata": {},
   "source": [
    "#### Save result to file"
   ]
  },
  {
   "cell_type": "code",
   "execution_count": 193,
   "id": "736baf5e-7dfd-4dc7-bf49-49e09178f346",
   "metadata": {
    "collapsed": true,
    "jupyter": {
     "outputs_hidden": true,
     "source_hidden": true
    },
    "tags": []
   },
   "outputs": [],
   "source": [
    "df = pd.DataFrame({\n",
    "    'HLfeatures model': model_str,\n",
    "    'model': 'logistic regression', \n",
    "    'test_accuracy': np.round(accuracy, 3)}, index=[0])\n",
    "df.to_csv('testacc.txt', mode='a', header=False)"
   ]
  },
  {
   "cell_type": "markdown",
   "id": "f8c7f67f",
   "metadata": {},
   "source": [
    "## 4. One-layer dense network"
   ]
  },
  {
   "cell_type": "markdown",
   "id": "de289112",
   "metadata": {},
   "source": [
    "#### Define model"
   ]
  },
  {
   "cell_type": "code",
   "execution_count": 212,
   "id": "a5330304",
   "metadata": {
    "collapsed": true,
    "jupyter": {
     "outputs_hidden": true,
     "source_hidden": true
    }
   },
   "outputs": [],
   "source": [
    "#import tensorflow as tf\n",
    "from tensorflow.keras import Sequential\n",
    "from tensorflow.keras.layers import Dense\n",
    "from tensorflow.keras.layers import InputLayer\n",
    "from tensorflow.keras.callbacks import EarlyStopping\n",
    "from sklearn.utils import class_weight "
   ]
  },
  {
   "cell_type": "code",
   "execution_count": 213,
   "id": "a1bf0a2b",
   "metadata": {
    "collapsed": true,
    "jupyter": {
     "outputs_hidden": true,
     "source_hidden": true
    }
   },
   "outputs": [
    {
     "name": "stdout",
     "output_type": "stream",
     "text": [
      "Model: \"sequential_14\"\n",
      "_________________________________________________________________\n",
      "Layer (type)                 Output Shape              Param #   \n",
      "=================================================================\n",
      "dense_21 (Dense)             (None, 8)                 10248     \n",
      "=================================================================\n",
      "Total params: 10,248\n",
      "Trainable params: 10,248\n",
      "Non-trainable params: 0\n",
      "_________________________________________________________________\n"
     ]
    }
   ],
   "source": [
    "model = Sequential()\n",
    "model.add(InputLayer(input_shape=(nf,)))\n",
    "model.add(Dense(8, activation='softmax'))\n",
    "model.summary()"
   ]
  },
  {
   "cell_type": "markdown",
   "id": "9e93b20d",
   "metadata": {},
   "source": [
    "#### Define loss function, optimizer, and metrics to track during training"
   ]
  },
  {
   "cell_type": "code",
   "execution_count": 214,
   "id": "617ee8dc",
   "metadata": {
    "collapsed": true,
    "jupyter": {
     "outputs_hidden": true,
     "source_hidden": true
    }
   },
   "outputs": [],
   "source": [
    "model.compile(\n",
    "    optimizer='sgd',\n",
    "    loss='sparse_categorical_crossentropy',\n",
    "    metrics=['acc']\n",
    ")"
   ]
  },
  {
   "cell_type": "markdown",
   "id": "433908d6",
   "metadata": {},
   "source": [
    "#### End training when accuracy stops improving (optional)"
   ]
  },
  {
   "cell_type": "code",
   "execution_count": 215,
   "id": "11502d72",
   "metadata": {
    "collapsed": true,
    "jupyter": {
     "outputs_hidden": true,
     "source_hidden": true
    }
   },
   "outputs": [],
   "source": [
    "early_stopping = EarlyStopping(monitor='val_loss', patience=10)"
   ]
  },
  {
   "cell_type": "markdown",
   "id": "100632e4",
   "metadata": {},
   "source": [
    "#### Fit model"
   ]
  },
  {
   "cell_type": "code",
   "execution_count": 216,
   "id": "6c0c4cdb",
   "metadata": {
    "collapsed": true,
    "jupyter": {
     "outputs_hidden": true,
     "source_hidden": true
    }
   },
   "outputs": [],
   "source": [
    "#train_class_weights = {str(k):v for k,v in train_class_weights.items()}\n",
    "#train_class_weights"
   ]
  },
  {
   "cell_type": "code",
   "execution_count": 217,
   "id": "13b2b0f4",
   "metadata": {
    "collapsed": true,
    "jupyter": {
     "outputs_hidden": true,
     "source_hidden": true
    },
    "tags": []
   },
   "outputs": [
    {
     "name": "stdout",
     "output_type": "stream",
     "text": [
      "Epoch 1/200\n",
      "200/200 [==============================] - 1s 2ms/step - loss: 1.7968 - acc: 0.3279 - val_loss: 1.6521 - val_acc: 0.4035\n",
      "Epoch 2/200\n",
      "200/200 [==============================] - 0s 1ms/step - loss: 1.4828 - acc: 0.4441 - val_loss: 1.4707 - val_acc: 0.4662\n",
      "Epoch 3/200\n",
      "200/200 [==============================] - 0s 2ms/step - loss: 1.3417 - acc: 0.4900 - val_loss: 1.3885 - val_acc: 0.4962\n",
      "Epoch 4/200\n",
      "200/200 [==============================] - 0s 1ms/step - loss: 1.2516 - acc: 0.5215 - val_loss: 1.2614 - val_acc: 0.5664\n",
      "Epoch 5/200\n",
      "200/200 [==============================] - 0s 1ms/step - loss: 1.1888 - acc: 0.5451 - val_loss: 1.2316 - val_acc: 0.5652\n",
      "Epoch 6/200\n",
      "200/200 [==============================] - 0s 2ms/step - loss: 1.1384 - acc: 0.5578 - val_loss: 1.1971 - val_acc: 0.5802\n",
      "Epoch 7/200\n",
      "200/200 [==============================] - 0s 1ms/step - loss: 1.0951 - acc: 0.5771 - val_loss: 1.1562 - val_acc: 0.5952\n",
      "Epoch 8/200\n",
      "200/200 [==============================] - 0s 1ms/step - loss: 1.0614 - acc: 0.5840 - val_loss: 1.1533 - val_acc: 0.5990\n",
      "Epoch 9/200\n",
      "200/200 [==============================] - 0s 1ms/step - loss: 1.0316 - acc: 0.5963 - val_loss: 1.1179 - val_acc: 0.5902\n",
      "Epoch 10/200\n",
      "200/200 [==============================] - 0s 2ms/step - loss: 1.0052 - acc: 0.6004 - val_loss: 1.1144 - val_acc: 0.5940\n",
      "Epoch 11/200\n",
      "200/200 [==============================] - 0s 2ms/step - loss: 0.9811 - acc: 0.6169 - val_loss: 1.0749 - val_acc: 0.6078\n",
      "Epoch 12/200\n",
      "200/200 [==============================] - 0s 2ms/step - loss: 0.9615 - acc: 0.6198 - val_loss: 1.0485 - val_acc: 0.6291\n",
      "Epoch 13/200\n",
      "200/200 [==============================] - 0s 2ms/step - loss: 0.9414 - acc: 0.6259 - val_loss: 1.0549 - val_acc: 0.6153\n",
      "Epoch 14/200\n",
      "200/200 [==============================] - 0s 2ms/step - loss: 0.9239 - acc: 0.6305 - val_loss: 1.0276 - val_acc: 0.6241\n",
      "Epoch 15/200\n",
      "200/200 [==============================] - 0s 1ms/step - loss: 0.9075 - acc: 0.6335 - val_loss: 1.0006 - val_acc: 0.6504\n",
      "Epoch 16/200\n",
      "200/200 [==============================] - 0s 2ms/step - loss: 0.8919 - acc: 0.6429 - val_loss: 1.0072 - val_acc: 0.6278\n",
      "Epoch 17/200\n",
      "200/200 [==============================] - 0s 1ms/step - loss: 0.8780 - acc: 0.6474 - val_loss: 0.9979 - val_acc: 0.6391\n",
      "Epoch 18/200\n",
      "200/200 [==============================] - 0s 1ms/step - loss: 0.8653 - acc: 0.6504 - val_loss: 0.9562 - val_acc: 0.6654\n",
      "Epoch 19/200\n",
      "200/200 [==============================] - 0s 2ms/step - loss: 0.8519 - acc: 0.6582 - val_loss: 0.9662 - val_acc: 0.6404\n",
      "Epoch 20/200\n",
      "200/200 [==============================] - 0s 2ms/step - loss: 0.8419 - acc: 0.6585 - val_loss: 0.9664 - val_acc: 0.6516\n",
      "Epoch 21/200\n",
      "200/200 [==============================] - 0s 2ms/step - loss: 0.8304 - acc: 0.6648 - val_loss: 0.9811 - val_acc: 0.6378\n",
      "Epoch 22/200\n",
      "200/200 [==============================] - 0s 2ms/step - loss: 0.8202 - acc: 0.6659 - val_loss: 0.9752 - val_acc: 0.6341\n",
      "Epoch 23/200\n",
      "200/200 [==============================] - 0s 2ms/step - loss: 0.8096 - acc: 0.6720 - val_loss: 0.9367 - val_acc: 0.6479\n",
      "Epoch 24/200\n",
      "200/200 [==============================] - 0s 1ms/step - loss: 0.8014 - acc: 0.6695 - val_loss: 0.9311 - val_acc: 0.6554\n",
      "Epoch 25/200\n",
      "200/200 [==============================] - 0s 2ms/step - loss: 0.7927 - acc: 0.6761 - val_loss: 0.9036 - val_acc: 0.6704\n",
      "Epoch 26/200\n",
      "200/200 [==============================] - 0s 2ms/step - loss: 0.7834 - acc: 0.6798 - val_loss: 0.9402 - val_acc: 0.6566\n",
      "Epoch 27/200\n",
      "200/200 [==============================] - 0s 1ms/step - loss: 0.7757 - acc: 0.6811 - val_loss: 0.9072 - val_acc: 0.6729\n",
      "Epoch 28/200\n",
      "200/200 [==============================] - 0s 2ms/step - loss: 0.7664 - acc: 0.6853 - val_loss: 0.9455 - val_acc: 0.6541\n",
      "Epoch 29/200\n",
      "200/200 [==============================] - 0s 1ms/step - loss: 0.7607 - acc: 0.6852 - val_loss: 0.8968 - val_acc: 0.6704\n",
      "Epoch 30/200\n",
      "200/200 [==============================] - 0s 2ms/step - loss: 0.7527 - acc: 0.6945 - val_loss: 0.9273 - val_acc: 0.6591\n",
      "Epoch 31/200\n",
      "200/200 [==============================] - 0s 2ms/step - loss: 0.7467 - acc: 0.6905 - val_loss: 0.9052 - val_acc: 0.6692\n",
      "Epoch 32/200\n",
      "200/200 [==============================] - 0s 1ms/step - loss: 0.7398 - acc: 0.6955 - val_loss: 0.9070 - val_acc: 0.6629\n",
      "Epoch 33/200\n",
      "200/200 [==============================] - 0s 2ms/step - loss: 0.7332 - acc: 0.6991 - val_loss: 0.8712 - val_acc: 0.6805\n",
      "Epoch 34/200\n",
      "200/200 [==============================] - 0s 1ms/step - loss: 0.7273 - acc: 0.6964 - val_loss: 0.8961 - val_acc: 0.6692\n",
      "Epoch 35/200\n",
      "200/200 [==============================] - 0s 2ms/step - loss: 0.7203 - acc: 0.6985 - val_loss: 0.8730 - val_acc: 0.6704\n",
      "Epoch 36/200\n",
      "200/200 [==============================] - 0s 2ms/step - loss: 0.7157 - acc: 0.7016 - val_loss: 0.8692 - val_acc: 0.6817\n",
      "Epoch 37/200\n",
      "200/200 [==============================] - 0s 2ms/step - loss: 0.7091 - acc: 0.7054 - val_loss: 0.8842 - val_acc: 0.6792\n",
      "Epoch 38/200\n",
      "200/200 [==============================] - 0s 1ms/step - loss: 0.7044 - acc: 0.7068 - val_loss: 0.8585 - val_acc: 0.6917\n",
      "Epoch 39/200\n",
      "200/200 [==============================] - 0s 1ms/step - loss: 0.6983 - acc: 0.7060 - val_loss: 0.8239 - val_acc: 0.7118\n",
      "Epoch 40/200\n",
      "200/200 [==============================] - 0s 1ms/step - loss: 0.6932 - acc: 0.7107 - val_loss: 0.9064 - val_acc: 0.6591\n",
      "Epoch 41/200\n",
      "200/200 [==============================] - 0s 2ms/step - loss: 0.6884 - acc: 0.7093 - val_loss: 0.8544 - val_acc: 0.6842\n",
      "Epoch 42/200\n",
      "200/200 [==============================] - 0s 2ms/step - loss: 0.6843 - acc: 0.7118 - val_loss: 0.8167 - val_acc: 0.7105\n",
      "Epoch 43/200\n",
      "200/200 [==============================] - 0s 2ms/step - loss: 0.6787 - acc: 0.7130 - val_loss: 0.8460 - val_acc: 0.6980\n",
      "Epoch 44/200\n",
      "200/200 [==============================] - 0s 1ms/step - loss: 0.6736 - acc: 0.7138 - val_loss: 0.8274 - val_acc: 0.7130\n",
      "Epoch 45/200\n",
      "200/200 [==============================] - 0s 1ms/step - loss: 0.6701 - acc: 0.7188 - val_loss: 0.8549 - val_acc: 0.6967\n",
      "Epoch 46/200\n",
      "200/200 [==============================] - 0s 2ms/step - loss: 0.6660 - acc: 0.7199 - val_loss: 0.8352 - val_acc: 0.6992\n",
      "Epoch 47/200\n",
      "200/200 [==============================] - 0s 2ms/step - loss: 0.6618 - acc: 0.7195 - val_loss: 0.8321 - val_acc: 0.7005\n",
      "Epoch 48/200\n",
      "200/200 [==============================] - 0s 1ms/step - loss: 0.6573 - acc: 0.7221 - val_loss: 0.8126 - val_acc: 0.7130\n",
      "Epoch 49/200\n",
      "200/200 [==============================] - 0s 2ms/step - loss: 0.6535 - acc: 0.7231 - val_loss: 0.8218 - val_acc: 0.7055\n",
      "Epoch 50/200\n",
      "200/200 [==============================] - 0s 2ms/step - loss: 0.6502 - acc: 0.7253 - val_loss: 0.8356 - val_acc: 0.6930\n",
      "Epoch 51/200\n",
      "200/200 [==============================] - 0s 2ms/step - loss: 0.6457 - acc: 0.7251 - val_loss: 0.8105 - val_acc: 0.7068\n",
      "Epoch 52/200\n",
      "200/200 [==============================] - 0s 2ms/step - loss: 0.6414 - acc: 0.7282 - val_loss: 0.8530 - val_acc: 0.6842\n",
      "Epoch 53/200\n",
      "200/200 [==============================] - 0s 2ms/step - loss: 0.6390 - acc: 0.7259 - val_loss: 0.8071 - val_acc: 0.7105\n",
      "Epoch 54/200\n",
      "200/200 [==============================] - 0s 1ms/step - loss: 0.6346 - acc: 0.7285 - val_loss: 0.8018 - val_acc: 0.7155\n",
      "Epoch 55/200\n",
      "200/200 [==============================] - 0s 1ms/step - loss: 0.6303 - acc: 0.7309 - val_loss: 0.8039 - val_acc: 0.7118\n",
      "Epoch 56/200\n",
      "200/200 [==============================] - 0s 2ms/step - loss: 0.6278 - acc: 0.7334 - val_loss: 0.8101 - val_acc: 0.6992\n",
      "Epoch 57/200\n",
      "200/200 [==============================] - 0s 2ms/step - loss: 0.6243 - acc: 0.7326 - val_loss: 0.8182 - val_acc: 0.6980\n",
      "Epoch 58/200\n",
      "200/200 [==============================] - 0s 1ms/step - loss: 0.6210 - acc: 0.7350 - val_loss: 0.8410 - val_acc: 0.6880\n",
      "Epoch 59/200\n",
      "200/200 [==============================] - 0s 2ms/step - loss: 0.6173 - acc: 0.7339 - val_loss: 0.7876 - val_acc: 0.7155\n",
      "Epoch 60/200\n",
      "200/200 [==============================] - 0s 2ms/step - loss: 0.6148 - acc: 0.7345 - val_loss: 0.8060 - val_acc: 0.7030\n",
      "Epoch 61/200\n",
      "200/200 [==============================] - 0s 2ms/step - loss: 0.6114 - acc: 0.7367 - val_loss: 0.7917 - val_acc: 0.7155\n",
      "Epoch 62/200\n",
      "200/200 [==============================] - 0s 2ms/step - loss: 0.6084 - acc: 0.7373 - val_loss: 0.7995 - val_acc: 0.7018\n",
      "Epoch 63/200\n",
      "200/200 [==============================] - 0s 2ms/step - loss: 0.6064 - acc: 0.7409 - val_loss: 0.7896 - val_acc: 0.7080\n",
      "Epoch 64/200\n",
      "200/200 [==============================] - 0s 2ms/step - loss: 0.6026 - acc: 0.7384 - val_loss: 0.7983 - val_acc: 0.7155\n",
      "Epoch 65/200\n",
      "200/200 [==============================] - 0s 2ms/step - loss: 0.6001 - acc: 0.7408 - val_loss: 0.7844 - val_acc: 0.7105\n",
      "Epoch 66/200\n",
      "200/200 [==============================] - 0s 1ms/step - loss: 0.5975 - acc: 0.7428 - val_loss: 0.8243 - val_acc: 0.6867\n",
      "Epoch 67/200\n",
      "200/200 [==============================] - 0s 2ms/step - loss: 0.5946 - acc: 0.7417 - val_loss: 0.7946 - val_acc: 0.7030\n",
      "Epoch 68/200\n",
      "200/200 [==============================] - 0s 2ms/step - loss: 0.5912 - acc: 0.7422 - val_loss: 0.7935 - val_acc: 0.6955\n",
      "Epoch 69/200\n",
      "200/200 [==============================] - 0s 2ms/step - loss: 0.5881 - acc: 0.7428 - val_loss: 0.7930 - val_acc: 0.7068\n",
      "Epoch 70/200\n",
      "200/200 [==============================] - 0s 2ms/step - loss: 0.5860 - acc: 0.7481 - val_loss: 0.7855 - val_acc: 0.7105\n",
      "Epoch 71/200\n",
      "200/200 [==============================] - 0s 1ms/step - loss: 0.5835 - acc: 0.7469 - val_loss: 0.7712 - val_acc: 0.7118\n",
      "Epoch 72/200\n",
      "200/200 [==============================] - 0s 2ms/step - loss: 0.5810 - acc: 0.7459 - val_loss: 0.7859 - val_acc: 0.7055\n",
      "Epoch 73/200\n",
      "200/200 [==============================] - 0s 2ms/step - loss: 0.5788 - acc: 0.7480 - val_loss: 0.8039 - val_acc: 0.6992\n",
      "Epoch 74/200\n",
      "200/200 [==============================] - 1s 3ms/step - loss: 0.5761 - acc: 0.7489 - val_loss: 0.7745 - val_acc: 0.7143\n",
      "Epoch 75/200\n",
      "200/200 [==============================] - 0s 2ms/step - loss: 0.5736 - acc: 0.7498 - val_loss: 0.7476 - val_acc: 0.7256\n",
      "Epoch 76/200\n",
      "200/200 [==============================] - 0s 1ms/step - loss: 0.5711 - acc: 0.7547 - val_loss: 0.7812 - val_acc: 0.7018\n",
      "Epoch 77/200\n",
      "200/200 [==============================] - 0s 2ms/step - loss: 0.5685 - acc: 0.7544 - val_loss: 0.7898 - val_acc: 0.7105\n",
      "Epoch 78/200\n",
      "200/200 [==============================] - 0s 2ms/step - loss: 0.5660 - acc: 0.7544 - val_loss: 0.7648 - val_acc: 0.7118\n",
      "Epoch 79/200\n",
      "200/200 [==============================] - 0s 1ms/step - loss: 0.5641 - acc: 0.7569 - val_loss: 0.7874 - val_acc: 0.7018\n",
      "Epoch 80/200\n",
      "200/200 [==============================] - 0s 1ms/step - loss: 0.5622 - acc: 0.7531 - val_loss: 0.7645 - val_acc: 0.7093\n",
      "Epoch 81/200\n",
      "200/200 [==============================] - 0s 1ms/step - loss: 0.5590 - acc: 0.7558 - val_loss: 0.7652 - val_acc: 0.7168\n",
      "Epoch 82/200\n",
      "200/200 [==============================] - 0s 2ms/step - loss: 0.5572 - acc: 0.7547 - val_loss: 0.7497 - val_acc: 0.7256\n",
      "Epoch 83/200\n",
      "200/200 [==============================] - 0s 2ms/step - loss: 0.5552 - acc: 0.7596 - val_loss: 0.7547 - val_acc: 0.7206\n",
      "Epoch 84/200\n",
      "200/200 [==============================] - 0s 1ms/step - loss: 0.5534 - acc: 0.7577 - val_loss: 0.7577 - val_acc: 0.7180\n",
      "Epoch 85/200\n",
      "200/200 [==============================] - 0s 2ms/step - loss: 0.5515 - acc: 0.7586 - val_loss: 0.7494 - val_acc: 0.7193\n"
     ]
    }
   ],
   "source": [
    "history = model.fit(\n",
    "    x=X_tr, y=y_tr,\n",
    "    validation_data=(X_val, y_val), \n",
    "    batch_size=32, \n",
    "    epochs=200,\n",
    "    shuffle=True, # Shuffle training samples\n",
    "    callbacks=[early_stopping],\n",
    "    class_weight=train_class_weights,\n",
    ")"
   ]
  },
  {
   "cell_type": "markdown",
   "id": "3e2bd2c4",
   "metadata": {},
   "source": [
    "#### Plot loss and accuracy values"
   ]
  },
  {
   "cell_type": "code",
   "execution_count": 218,
   "id": "f896f2e6",
   "metadata": {
    "collapsed": true,
    "jupyter": {
     "outputs_hidden": true,
     "source_hidden": true
    },
    "tags": []
   },
   "outputs": [],
   "source": [
    "%matplotlib inline\n",
    "import matplotlib.pyplot as plt\n",
    "import numpy as np\n",
    "\n",
    "def plot_acc(history, fig, axs):\n",
    "    # Plot accuracy values\n",
    "    ax1.plot(history.history['loss'], label='train loss')\n",
    "    ax1.plot(history.history['val_loss'], label='val loss')\n",
    "    ax1.set_title('Validation loss {:.3f} (mean last 3)'.format(\n",
    "        np.mean(history.history['val_loss'][-3:]) # last three values\n",
    "    ))\n",
    "    ax1.set_xlabel('epoch')\n",
    "    ax1.set_ylabel('loss value')\n",
    "    ax1.legend()\n",
    "\n",
    "    # Plot accuracy values\n",
    "    ax2.plot(history.history['acc'], label='train acc')\n",
    "    ax2.plot(history.history['val_acc'], label='val acc')\n",
    "    ax2.set_title('Validation accuracy {:.3f} (mean last 3)'.format(\n",
    "        np.mean(history.history['val_acc'][-3:]) # last three values\n",
    "    ))\n",
    "    ax2.set_xlabel('epoch')\n",
    "    ax2.set_ylabel('accuracy')\n",
    "    ax2.legend()\n",
    "    plt.show()"
   ]
  },
  {
   "cell_type": "code",
   "execution_count": 219,
   "id": "57cca909",
   "metadata": {
    "collapsed": true,
    "jupyter": {
     "outputs_hidden": true,
     "source_hidden": true
    }
   },
   "outputs": [
    {
     "data": {
      "image/png": "[encoded data removed]",
      "text/plain": [
       "<Figure size 864x288 with 2 Axes>"
      ]
     },
     "metadata": {
      "needs_background": "light"
     },
     "output_type": "display_data"
    }
   ],
   "source": [
    "# Create two plots: one for the loss value, one for the accuracy\n",
    "fig, (ax1, ax2) = plt.subplots(nrows=1, ncols=2, figsize=(12, 4))\n",
    "plot_acc(history, fig, (ax1, ax2))"
   ]
  },
  {
   "cell_type": "code",
   "execution_count": null,
   "id": "5d9a76d1",
   "metadata": {
    "collapsed": true,
    "jupyter": {
     "outputs_hidden": true,
     "source_hidden": true
    }
   },
   "outputs": [],
   "source": []
  },
  {
   "cell_type": "markdown",
   "id": "3fd2593a",
   "metadata": {},
   "source": [
    "## 5. Two-layer dense network"
   ]
  },
  {
   "cell_type": "markdown",
   "id": "e7265ceb",
   "metadata": {},
   "source": [
    "#### Define models"
   ]
  },
  {
   "cell_type": "code",
   "execution_count": 202,
   "id": "1355feea",
   "metadata": {
    "collapsed": true,
    "jupyter": {
     "outputs_hidden": true,
     "source_hidden": true
    }
   },
   "outputs": [
    {
     "name": "stdout",
     "output_type": "stream",
     "text": [
      "Model: \"sequential_13\"\n",
      "_________________________________________________________________\n",
      "Layer (type)                 Output Shape              Param #   \n",
      "=================================================================\n",
      "dense_19 (Dense)             (None, 32)                40992     \n",
      "_________________________________________________________________\n",
      "dense_20 (Dense)             (None, 8)                 264       \n",
      "=================================================================\n",
      "Total params: 41,256\n",
      "Trainable params: 41,256\n",
      "Non-trainable params: 0\n",
      "_________________________________________________________________\n"
     ]
    }
   ],
   "source": [
    "model2 = Sequential()\n",
    "model2.add(Dense(32, activation='relu', input_dim=nf))\n",
    "model2.add(Dense(8, activation='softmax'))\n",
    "model2.summary()"
   ]
  },
  {
   "cell_type": "code",
   "execution_count": null,
   "id": "9a42e5e1",
   "metadata": {
    "collapsed": true,
    "jupyter": {
     "outputs_hidden": true,
     "source_hidden": true
    }
   },
   "outputs": [],
   "source": []
  },
  {
   "cell_type": "markdown",
   "id": "29048876",
   "metadata": {},
   "source": [
    "#### Define loss function, optimizer, and metrics to track during training"
   ]
  },
  {
   "cell_type": "code",
   "execution_count": 203,
   "id": "c15e1192",
   "metadata": {
    "collapsed": true,
    "jupyter": {
     "outputs_hidden": true,
     "source_hidden": true
    }
   },
   "outputs": [],
   "source": [
    "model2.compile(\n",
    "    optimizer='sgd',\n",
    "    loss='sparse_categorical_crossentropy',\n",
    "    metrics=['acc']\n",
    ")"
   ]
  },
  {
   "cell_type": "markdown",
   "id": "d824c15d",
   "metadata": {},
   "source": [
    "#### End training when accuracy stops improving (optional)"
   ]
  },
  {
   "cell_type": "code",
   "execution_count": 204,
   "id": "e1d23a1e",
   "metadata": {
    "collapsed": true,
    "jupyter": {
     "outputs_hidden": true,
     "source_hidden": true
    }
   },
   "outputs": [],
   "source": [
    "early_stopping = EarlyStopping(monitor='val_loss', patience=6)"
   ]
  },
  {
   "cell_type": "markdown",
   "id": "2c2e4fdf",
   "metadata": {},
   "source": [
    "#### Fit model"
   ]
  },
  {
   "cell_type": "code",
   "execution_count": 205,
   "id": "e74574b9",
   "metadata": {
    "collapsed": true,
    "jupyter": {
     "outputs_hidden": true,
     "source_hidden": true
    },
    "tags": []
   },
   "outputs": [
    {
     "name": "stdout",
     "output_type": "stream",
     "text": [
      "Epoch 1/100\n",
      "200/200 [==============================] - 1s 3ms/step - loss: 1.6043 - acc: 0.4771 - val_loss: 1.4286 - val_acc: 0.5138\n",
      "Epoch 2/100\n",
      "200/200 [==============================] - 0s 2ms/step - loss: 1.3123 - acc: 0.5459 - val_loss: 1.2317 - val_acc: 0.5627\n",
      "Epoch 3/100\n",
      "200/200 [==============================] - 0s 2ms/step - loss: 1.1644 - acc: 0.5872 - val_loss: 1.1219 - val_acc: 0.6128\n",
      "Epoch 4/100\n",
      "200/200 [==============================] - 0s 2ms/step - loss: 1.0693 - acc: 0.6216 - val_loss: 1.0368 - val_acc: 0.6253\n",
      "Epoch 5/100\n",
      "200/200 [==============================] - 0s 2ms/step - loss: 1.0028 - acc: 0.6425 - val_loss: 0.9890 - val_acc: 0.6642\n",
      "Epoch 6/100\n",
      "200/200 [==============================] - 0s 2ms/step - loss: 0.9506 - acc: 0.6588 - val_loss: 0.9423 - val_acc: 0.6692\n",
      "Epoch 7/100\n",
      "200/200 [==============================] - 0s 2ms/step - loss: 0.9086 - acc: 0.6739 - val_loss: 0.9137 - val_acc: 0.6867\n",
      "Epoch 8/100\n",
      "200/200 [==============================] - 0s 2ms/step - loss: 0.8713 - acc: 0.6867 - val_loss: 0.8747 - val_acc: 0.6805\n",
      "Epoch 9/100\n",
      "200/200 [==============================] - 0s 2ms/step - loss: 0.8402 - acc: 0.6980 - val_loss: 0.8532 - val_acc: 0.6855\n",
      "Epoch 10/100\n",
      "200/200 [==============================] - 0s 2ms/step - loss: 0.8128 - acc: 0.7091 - val_loss: 0.8226 - val_acc: 0.7206\n",
      "Epoch 11/100\n",
      "200/200 [==============================] - 0s 2ms/step - loss: 0.7847 - acc: 0.7176 - val_loss: 0.8130 - val_acc: 0.7118\n",
      "Epoch 12/100\n",
      "200/200 [==============================] - 0s 2ms/step - loss: 0.7611 - acc: 0.7271 - val_loss: 0.7931 - val_acc: 0.7243\n",
      "Epoch 13/100\n",
      "200/200 [==============================] - 0s 2ms/step - loss: 0.7395 - acc: 0.7368 - val_loss: 0.7796 - val_acc: 0.7393\n",
      "Epoch 14/100\n",
      "200/200 [==============================] - 0s 2ms/step - loss: 0.7184 - acc: 0.7426 - val_loss: 0.7485 - val_acc: 0.7494\n",
      "Epoch 15/100\n",
      "200/200 [==============================] - 0s 2ms/step - loss: 0.6994 - acc: 0.7469 - val_loss: 0.7385 - val_acc: 0.7381\n",
      "Epoch 16/100\n",
      "200/200 [==============================] - 0s 2ms/step - loss: 0.6826 - acc: 0.7544 - val_loss: 0.7215 - val_acc: 0.7581\n",
      "Epoch 17/100\n",
      "200/200 [==============================] - 0s 2ms/step - loss: 0.6638 - acc: 0.7668 - val_loss: 0.7275 - val_acc: 0.7644\n",
      "Epoch 18/100\n",
      "200/200 [==============================] - 0s 2ms/step - loss: 0.6488 - acc: 0.7691 - val_loss: 0.6968 - val_acc: 0.7669\n",
      "Epoch 19/100\n",
      "200/200 [==============================] - 0s 2ms/step - loss: 0.6331 - acc: 0.7754 - val_loss: 0.6860 - val_acc: 0.7707\n",
      "Epoch 20/100\n",
      "200/200 [==============================] - 0s 2ms/step - loss: 0.6188 - acc: 0.7802 - val_loss: 0.6770 - val_acc: 0.7807\n",
      "Epoch 21/100\n",
      "200/200 [==============================] - 0s 2ms/step - loss: 0.6066 - acc: 0.7849 - val_loss: 0.6775 - val_acc: 0.7719\n",
      "Epoch 22/100\n",
      "200/200 [==============================] - 1s 3ms/step - loss: 0.5944 - acc: 0.7849 - val_loss: 0.6657 - val_acc: 0.7882\n",
      "Epoch 23/100\n",
      "200/200 [==============================] - 0s 2ms/step - loss: 0.5787 - acc: 0.7954 - val_loss: 0.6658 - val_acc: 0.7845\n",
      "Epoch 24/100\n",
      "200/200 [==============================] - 0s 2ms/step - loss: 0.5681 - acc: 0.8006 - val_loss: 0.6422 - val_acc: 0.7920\n",
      "Epoch 25/100\n",
      "200/200 [==============================] - 0s 2ms/step - loss: 0.5582 - acc: 0.8065 - val_loss: 0.6439 - val_acc: 0.7732\n",
      "Epoch 26/100\n",
      "200/200 [==============================] - 0s 2ms/step - loss: 0.5470 - acc: 0.8084 - val_loss: 0.6321 - val_acc: 0.7970\n",
      "Epoch 27/100\n",
      "200/200 [==============================] - 0s 2ms/step - loss: 0.5355 - acc: 0.8164 - val_loss: 0.6082 - val_acc: 0.7907\n",
      "Epoch 28/100\n",
      "200/200 [==============================] - 0s 2ms/step - loss: 0.5247 - acc: 0.8156 - val_loss: 0.6128 - val_acc: 0.7870\n",
      "Epoch 29/100\n",
      "200/200 [==============================] - 0s 2ms/step - loss: 0.5171 - acc: 0.8205 - val_loss: 0.6052 - val_acc: 0.7982\n",
      "Epoch 30/100\n",
      "200/200 [==============================] - 0s 2ms/step - loss: 0.5049 - acc: 0.8228 - val_loss: 0.5948 - val_acc: 0.8045\n",
      "Epoch 31/100\n",
      "200/200 [==============================] - 0s 2ms/step - loss: 0.4968 - acc: 0.8318 - val_loss: 0.5999 - val_acc: 0.7945\n",
      "Epoch 32/100\n",
      "200/200 [==============================] - 0s 2ms/step - loss: 0.4904 - acc: 0.8305 - val_loss: 0.5845 - val_acc: 0.7995\n",
      "Epoch 33/100\n",
      "200/200 [==============================] - 0s 2ms/step - loss: 0.4801 - acc: 0.8315 - val_loss: 0.5772 - val_acc: 0.7982\n",
      "Epoch 34/100\n",
      "200/200 [==============================] - 0s 2ms/step - loss: 0.4737 - acc: 0.8410 - val_loss: 0.5766 - val_acc: 0.8008\n",
      "Epoch 35/100\n",
      "200/200 [==============================] - 0s 2ms/step - loss: 0.4640 - acc: 0.8432 - val_loss: 0.5603 - val_acc: 0.8033\n",
      "Epoch 36/100\n",
      "200/200 [==============================] - 0s 2ms/step - loss: 0.4562 - acc: 0.8457 - val_loss: 0.5584 - val_acc: 0.8020\n",
      "Epoch 37/100\n",
      "200/200 [==============================] - 0s 2ms/step - loss: 0.4500 - acc: 0.8492 - val_loss: 0.5574 - val_acc: 0.8045\n",
      "Epoch 38/100\n",
      "200/200 [==============================] - 0s 2ms/step - loss: 0.4441 - acc: 0.8484 - val_loss: 0.5525 - val_acc: 0.8158\n",
      "Epoch 39/100\n",
      "200/200 [==============================] - 0s 2ms/step - loss: 0.4369 - acc: 0.8513 - val_loss: 0.5539 - val_acc: 0.8108\n",
      "Epoch 40/100\n",
      "200/200 [==============================] - 0s 3ms/step - loss: 0.4307 - acc: 0.8524 - val_loss: 0.5607 - val_acc: 0.8095\n",
      "Epoch 41/100\n",
      "200/200 [==============================] - 1s 3ms/step - loss: 0.4254 - acc: 0.8571 - val_loss: 0.5467 - val_acc: 0.8083\n",
      "Epoch 42/100\n",
      "200/200 [==============================] - 0s 2ms/step - loss: 0.4179 - acc: 0.8579 - val_loss: 0.5435 - val_acc: 0.8120\n",
      "Epoch 43/100\n",
      "200/200 [==============================] - 0s 2ms/step - loss: 0.4120 - acc: 0.8631 - val_loss: 0.5621 - val_acc: 0.8045\n",
      "Epoch 44/100\n",
      "200/200 [==============================] - 0s 2ms/step - loss: 0.4057 - acc: 0.8647 - val_loss: 0.5400 - val_acc: 0.8083\n",
      "Epoch 45/100\n",
      "200/200 [==============================] - 0s 2ms/step - loss: 0.3991 - acc: 0.8642 - val_loss: 0.5397 - val_acc: 0.8083\n",
      "Epoch 46/100\n",
      "200/200 [==============================] - 0s 2ms/step - loss: 0.3957 - acc: 0.8658 - val_loss: 0.5391 - val_acc: 0.8108\n",
      "Epoch 47/100\n",
      "200/200 [==============================] - 0s 2ms/step - loss: 0.3895 - acc: 0.8712 - val_loss: 0.5286 - val_acc: 0.8120\n",
      "Epoch 48/100\n",
      "200/200 [==============================] - 0s 2ms/step - loss: 0.3840 - acc: 0.8692 - val_loss: 0.5150 - val_acc: 0.8208\n",
      "Epoch 49/100\n",
      "200/200 [==============================] - 0s 2ms/step - loss: 0.3810 - acc: 0.8731 - val_loss: 0.5212 - val_acc: 0.8158\n",
      "Epoch 50/100\n",
      "200/200 [==============================] - 0s 2ms/step - loss: 0.3764 - acc: 0.8745 - val_loss: 0.5233 - val_acc: 0.8133\n",
      "Epoch 51/100\n",
      "200/200 [==============================] - 1s 4ms/step - loss: 0.3683 - acc: 0.8786 - val_loss: 0.5054 - val_acc: 0.8221\n",
      "Epoch 52/100\n",
      "200/200 [==============================] - 1s 4ms/step - loss: 0.3655 - acc: 0.8773 - val_loss: 0.5075 - val_acc: 0.8246\n",
      "Epoch 53/100\n",
      "200/200 [==============================] - 1s 4ms/step - loss: 0.3594 - acc: 0.8839 - val_loss: 0.5132 - val_acc: 0.8145\n",
      "Epoch 54/100\n",
      "200/200 [==============================] - 1s 3ms/step - loss: 0.3545 - acc: 0.8816 - val_loss: 0.5399 - val_acc: 0.7995\n",
      "Epoch 55/100\n",
      "200/200 [==============================] - 0s 2ms/step - loss: 0.3491 - acc: 0.8838 - val_loss: 0.5120 - val_acc: 0.8133\n",
      "Epoch 56/100\n",
      "200/200 [==============================] - 0s 2ms/step - loss: 0.3483 - acc: 0.8822 - val_loss: 0.4995 - val_acc: 0.8195\n",
      "Epoch 57/100\n",
      "200/200 [==============================] - 0s 2ms/step - loss: 0.3411 - acc: 0.8864 - val_loss: 0.5066 - val_acc: 0.8170\n",
      "Epoch 58/100\n",
      "200/200 [==============================] - 0s 2ms/step - loss: 0.3393 - acc: 0.8871 - val_loss: 0.4989 - val_acc: 0.8195\n",
      "Epoch 59/100\n",
      "200/200 [==============================] - 0s 2ms/step - loss: 0.3337 - acc: 0.8891 - val_loss: 0.5057 - val_acc: 0.8233\n",
      "Epoch 60/100\n",
      "200/200 [==============================] - 0s 2ms/step - loss: 0.3297 - acc: 0.8911 - val_loss: 0.5030 - val_acc: 0.8258\n",
      "Epoch 61/100\n",
      "200/200 [==============================] - 0s 2ms/step - loss: 0.3262 - acc: 0.8918 - val_loss: 0.5081 - val_acc: 0.8195\n",
      "Epoch 62/100\n",
      "200/200 [==============================] - 0s 2ms/step - loss: 0.3228 - acc: 0.8899 - val_loss: 0.4887 - val_acc: 0.8333\n",
      "Epoch 63/100\n",
      "200/200 [==============================] - 0s 2ms/step - loss: 0.3174 - acc: 0.8966 - val_loss: 0.4954 - val_acc: 0.8233\n",
      "Epoch 64/100\n",
      "200/200 [==============================] - 0s 2ms/step - loss: 0.3152 - acc: 0.8963 - val_loss: 0.4814 - val_acc: 0.8296\n",
      "Epoch 65/100\n",
      "200/200 [==============================] - 0s 2ms/step - loss: 0.3113 - acc: 0.8951 - val_loss: 0.5048 - val_acc: 0.8183\n",
      "Epoch 66/100\n",
      "200/200 [==============================] - 0s 2ms/step - loss: 0.3078 - acc: 0.8971 - val_loss: 0.4874 - val_acc: 0.8271\n",
      "Epoch 67/100\n",
      "200/200 [==============================] - 0s 2ms/step - loss: 0.3047 - acc: 0.8996 - val_loss: 0.4846 - val_acc: 0.8233\n",
      "Epoch 68/100\n",
      "200/200 [==============================] - 0s 2ms/step - loss: 0.3005 - acc: 0.9007 - val_loss: 0.5029 - val_acc: 0.8120\n",
      "Epoch 69/100\n",
      "200/200 [==============================] - 0s 2ms/step - loss: 0.2967 - acc: 0.9034 - val_loss: 0.4893 - val_acc: 0.8208\n",
      "Epoch 70/100\n",
      "200/200 [==============================] - 0s 2ms/step - loss: 0.2943 - acc: 0.9043 - val_loss: 0.4987 - val_acc: 0.8221\n"
     ]
    }
   ],
   "source": [
    "history2 = model2.fit(\n",
    "    x=X_tr, y=y_tr,\n",
    "    validation_data=(X_val, y_val), \n",
    "    batch_size=32, \n",
    "    epochs=100,\n",
    "    shuffle=True, # Shuffle training samples\n",
    "    callbacks=[early_stopping]\n",
    ")"
   ]
  },
  {
   "cell_type": "code",
   "execution_count": null,
   "id": "9ca12958",
   "metadata": {
    "collapsed": true,
    "jupyter": {
     "outputs_hidden": true,
     "source_hidden": true
    },
    "tags": []
   },
   "outputs": [],
   "source": []
  },
  {
   "cell_type": "markdown",
   "id": "1d17260a",
   "metadata": {},
   "source": [
    "#### Plot loss and accuracy values"
   ]
  },
  {
   "cell_type": "code",
   "execution_count": 206,
   "id": "a97869c1",
   "metadata": {
    "collapsed": true,
    "jupyter": {
     "outputs_hidden": true,
     "source_hidden": true
    },
    "tags": []
   },
   "outputs": [
    {
     "data": {
      "image/png": "[encoded data removed]",
      "text/plain": [
       "<Figure size 864x288 with 2 Axes>"
      ]
     },
     "metadata": {
      "needs_background": "light"
     },
     "output_type": "display_data"
    }
   ],
   "source": [
    "# Create two plots: one for the loss value, one for the accuracy\n",
    "fig, (ax1, ax2) = plt.subplots(nrows=1, ncols=2, figsize=(12, 4))\n",
    "plot_acc(history2, fig, (ax1, ax2))"
   ]
  },
  {
   "cell_type": "markdown",
   "id": "e6cff330-e405-45c9-ba12-71e583e0fa73",
   "metadata": {
    "tags": []
   },
   "source": [
    "## 6. Evaluate models on test data"
   ]
  },
  {
   "cell_type": "markdown",
   "id": "2ccc2458-4c7f-4fe6-bdf7-e3fd054da41c",
   "metadata": {},
   "source": [
    "#### Evaluate one-layer dense network"
   ]
  },
  {
   "cell_type": "code",
   "execution_count": 220,
   "id": "60502f76-ff71-4bfd-a679-b1fa7f003d34",
   "metadata": {
    "collapsed": true,
    "jupyter": {
     "outputs_hidden": true,
     "source_hidden": true
    },
    "tags": []
   },
   "outputs": [
    {
     "name": "stdout",
     "output_type": "stream",
     "text": [
      "Test accuracy 1-layer model: 0.731\n"
     ]
    }
   ],
   "source": [
    "\n",
    "loss, accuracy = model.evaluate(X_te, y_te, verbose=0)\n",
    "\n",
    "print('Test accuracy 1-layer model: {:.3f}'.format(accuracy))\n",
    "\n",
    "# save result to file\n",
    "df = pd.DataFrame({\n",
    "    'HLfeatures model': model_str,\n",
    "    'model': '1-layer nn', \n",
    "    'test_accuracy': np.round(accuracy,3)}, index=[0])\n",
    "df.to_csv('testacc.txt', mode='a', header=False)"
   ]
  },
  {
   "cell_type": "markdown",
   "id": "c161583b-76f6-420a-942e-5986d49ad9a5",
   "metadata": {},
   "source": [
    "#### Evaluate two-layer dense network"
   ]
  },
  {
   "cell_type": "code",
   "execution_count": null,
   "id": "83340ebd-7813-4660-b764-2cf25f3c4b7b",
   "metadata": {
    "collapsed": true,
    "jupyter": {
     "outputs_hidden": true,
     "source_hidden": true
    },
    "tags": []
   },
   "outputs": [],
   "source": [
    "# evaluate the model\n",
    "loss, accuracy, = model2.evaluate(X_te, y_te, verbose=0)\n",
    "\n",
    "print('Test accuracy 2-layer model: {:.3f}'.format(accuracy))\n",
    "\n",
    "# save result to file\n",
    "df = pd.DataFrame({\n",
    "    'HLfeatures model': model_str,\n",
    "    'model': '2-layer nn', \n",
    "    'test_accuracy': np.round(accuracy,3)}, index=[0])\n",
    "df.to_csv('testacc.txt', mode='a', header=False)"
   ]
  },
  {
   "cell_type": "code",
   "execution_count": null,
   "id": "5c82c5f3-c302-4e6d-beb1-86805149c7cd",
   "metadata": {
    "collapsed": true,
    "jupyter": {
     "outputs_hidden": true,
     "source_hidden": true
    },
    "tags": []
   },
   "outputs": [],
   "source": []
  }
 ],
 "metadata": {
  "kernelspec": {
   "display_name": "Python 3 (ipykernel)",
   "language": "python",
   "name": "python3"
  },
  "language_info": {
   "codemirror_mode": {
    "name": "ipython",
    "version": 3
   },
   "file_extension": ".py",
   "mimetype": "text/x-python",
   "name": "python",
   "nbconvert_exporter": "python",
   "pygments_lexer": "ipython3",
   "version": "3.9.10"
  }
 },
 "nbformat": 4,
 "nbformat_minor": 5
}
